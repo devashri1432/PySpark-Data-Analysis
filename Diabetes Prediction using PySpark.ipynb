{
 "cells": [
  {
   "cell_type": "markdown",
   "metadata": {
    "application/vnd.databricks.v1+cell": {
     "cellMetadata": {
      "byteLimit": 2048000,
      "rowLimit": 10000
     },
     "inputWidgets": {},
     "nuid": "96816ed7-b08a-4ca3-abb9-f99880c3535d",
     "showTitle": false,
     "title": ""
    }
   },
   "source": [
    "\n",
    "## Overview\n",
    "\n",
    "This notebook will show you how to create and query a table or DataFrame that you uploaded to DBFS. [DBFS](https://docs.databricks.com/user-guide/dbfs-databricks-file-system.html) is a Databricks File System that allows you to store data for querying inside of Databricks. This notebook assumes that you have a file already inside of DBFS that you would like to read from.\n",
    "\n",
    "This notebook is written in **Python** so the default cell type is Python. However, you can use different languages by using the `%LANGUAGE` syntax. Python, Scala, SQL, and R are all supported."
   ]
  },
  {
   "cell_type": "code",
   "execution_count": 0,
   "metadata": {
    "application/vnd.databricks.v1+cell": {
     "cellMetadata": {
      "byteLimit": 2048000,
      "rowLimit": 10000
     },
     "inputWidgets": {},
     "nuid": "73d0a565-4423-4877-ab57-89380136041b",
     "showTitle": false,
     "title": ""
    }
   },
   "outputs": [
    {
     "output_type": "stream",
     "name": "stdout",
     "output_type": "stream",
     "text": [
      "Python interpreter will be restarted.\nCollecting sparkxgb\n  Downloading sparkxgb-0.1.tar.gz (3.6 kB)\nCollecting pyspark==3.1.1\n  Downloading pyspark-3.1.1.tar.gz (212.3 MB)\nCollecting py4j==0.10.9\n  Downloading py4j-0.10.9-py2.py3-none-any.whl (198 kB)\nBuilding wheels for collected packages: sparkxgb, pyspark\n  Building wheel for sparkxgb (setup.py): started\n  Building wheel for sparkxgb (setup.py): finished with status 'done'\n  Created wheel for sparkxgb: filename=sparkxgb-0.1-py3-none-any.whl size=5654 sha256=e2f9034d6f2eb9f8e93f58cd974de33654f36e1e5f8b8567b758a1325be82cd4\n  Stored in directory: /root/.cache/pip/wheels/a0/8b/56/b552f1fcc0c2ace33c4099565fec6c1d5804add53bfa7dec14\n  Building wheel for pyspark (setup.py): started\n  Building wheel for pyspark (setup.py): finished with status 'done'\n  Created wheel for pyspark: filename=pyspark-3.1.1-py2.py3-none-any.whl size=212767605 sha256=26c2a26fa0fe2d78d6e273f79e305841602ee7f7dabf04d4d4368bdc46d47746\n  Stored in directory: /root/.cache/pip/wheels/23/bf/e9/9f3500437422e2ab82246f25a51ee480a44d4efc6c27e50d33\nSuccessfully built sparkxgb pyspark\nInstalling collected packages: py4j, pyspark, sparkxgb\nSuccessfully installed py4j-0.10.9 pyspark-3.1.1 sparkxgb-0.1\nPython interpreter will be restarted.\nPython interpreter will be restarted.\nCollecting torch\n  Downloading torch-2.3.0-cp39-cp39-manylinux1_x86_64.whl (779.1 MB)\nCollecting triton==2.3.0\n  Downloading triton-2.3.0-cp39-cp39-manylinux_2_17_x86_64.manylinux2014_x86_64.whl (168.1 MB)\nCollecting nvidia-cuda-nvrtc-cu12==12.1.105\n  Downloading nvidia_cuda_nvrtc_cu12-12.1.105-py3-none-manylinux1_x86_64.whl (23.7 MB)\nCollecting nvidia-cudnn-cu12==8.9.2.26\n  Downloading nvidia_cudnn_cu12-8.9.2.26-py3-none-manylinux1_x86_64.whl (731.7 MB)\nCollecting nvidia-nvtx-cu12==12.1.105\n  Downloading nvidia_nvtx_cu12-12.1.105-py3-none-manylinux1_x86_64.whl (99 kB)\nRequirement already satisfied: jinja2 in /databricks/python3/lib/python3.9/site-packages (from torch) (2.11.3)\nCollecting nvidia-cusparse-cu12==12.1.0.106\n  Downloading nvidia_cusparse_cu12-12.1.0.106-py3-none-manylinux1_x86_64.whl (196.0 MB)\nCollecting typing-extensions>=4.8.0\n  Downloading typing_extensions-4.11.0-py3-none-any.whl (34 kB)\nRequirement already satisfied: filelock in /usr/local/lib/python3.9/dist-packages (from torch) (3.9.0)\nCollecting fsspec\n  Downloading fsspec-2024.3.1-py3-none-any.whl (171 kB)\nCollecting nvidia-cublas-cu12==12.1.3.1\n  Downloading nvidia_cublas_cu12-12.1.3.1-py3-none-manylinux1_x86_64.whl (410.6 MB)\nCollecting nvidia-cufft-cu12==11.0.2.54\n  Downloading nvidia_cufft_cu12-11.0.2.54-py3-none-manylinux1_x86_64.whl (121.6 MB)\nCollecting nvidia-cuda-cupti-cu12==12.1.105\n  Downloading nvidia_cuda_cupti_cu12-12.1.105-py3-none-manylinux1_x86_64.whl (14.1 MB)\nCollecting sympy\n  Downloading sympy-1.12-py3-none-any.whl (5.7 MB)\nCollecting nvidia-nccl-cu12==2.20.5\n  Downloading nvidia_nccl_cu12-2.20.5-py3-none-manylinux2014_x86_64.whl (176.2 MB)\nCollecting networkx\n  Downloading networkx-3.2.1-py3-none-any.whl (1.6 MB)\nCollecting nvidia-cusolver-cu12==11.4.5.107\n  Downloading nvidia_cusolver_cu12-11.4.5.107-py3-none-manylinux1_x86_64.whl (124.2 MB)\nCollecting nvidia-curand-cu12==10.3.2.106\n  Downloading nvidia_curand_cu12-10.3.2.106-py3-none-manylinux1_x86_64.whl (56.5 MB)\nCollecting nvidia-cuda-runtime-cu12==12.1.105\n  Downloading nvidia_cuda_runtime_cu12-12.1.105-py3-none-manylinux1_x86_64.whl (823 kB)\nCollecting nvidia-nvjitlink-cu12\n  Downloading nvidia_nvjitlink_cu12-12.4.127-py3-none-manylinux2014_x86_64.whl (21.1 MB)\nRequirement already satisfied: MarkupSafe>=0.23 in /databricks/python3/lib/python3.9/site-packages (from jinja2->torch) (2.0.1)\nCollecting mpmath>=0.19\n  Downloading mpmath-1.3.0-py3-none-any.whl (536 kB)\nInstalling collected packages: nvidia-nvjitlink-cu12, nvidia-cusparse-cu12, nvidia-cublas-cu12, mpmath, typing-extensions, triton, sympy, nvidia-nvtx-cu12, nvidia-nccl-cu12, nvidia-cusolver-cu12, nvidia-curand-cu12, nvidia-cufft-cu12, nvidia-cudnn-cu12, nvidia-cuda-runtime-cu12, nvidia-cuda-nvrtc-cu12, nvidia-cuda-cupti-cu12, networkx, fsspec, torch\n  Attempting uninstall: typing-extensions\n    Found existing installation: typing-extensions 4.1.1\n    Not uninstalling typing-extensions at /databricks/python3/lib/python3.9/site-packages, outside environment /local_disk0/.ephemeral_nfs/envs/pythonEnv-e20836ac-fe25-402e-b1e9-00461cc71512\n    Can't uninstall 'typing-extensions'. No files were found to uninstall.\nSuccessfully installed fsspec-2024.3.1 mpmath-1.3.0 networkx-3.2.1 nvidia-cublas-cu12-12.1.3.1 nvidia-cuda-cupti-cu12-12.1.105 nvidia-cuda-nvrtc-cu12-12.1.105 nvidia-cuda-runtime-cu12-12.1.105 nvidia-cudnn-cu12-8.9.2.26 nvidia-cufft-cu12-11.0.2.54 nvidia-curand-cu12-10.3.2.106 nvidia-cusolver-cu12-11.4.5.107 nvidia-cusparse-cu12-12.1.0.106 nvidia-nccl-cu12-2.20.5 nvidia-nvjitlink-cu12-12.4.127 nvidia-nvtx-cu12-12.1.105 sympy-1.12 torch-2.3.0 triton-2.3.0 typing-extensions-4.11.0\nPython interpreter will be restarted.\n"
     ]
    }
   ],
   "source": [
    "%pip install sparkxgb\n",
    "%pip install torch"
   ]
  },
  {
   "cell_type": "code",
   "execution_count": 0,
   "metadata": {
    "application/vnd.databricks.v1+cell": {
     "cellMetadata": {
      "byteLimit": 2048000,
      "rowLimit": 10000
     },
     "inputWidgets": {},
     "nuid": "5da68f74-3d4c-42df-81e5-5e914237c135",
     "showTitle": false,
     "title": ""
    }
   },
   "outputs": [
    {
     "output_type": "display_data",
     "data": {
      "application/vnd.databricks.v1+bamboolib_hint": "{\"pd.DataFrames\": [], \"version\": \"0.0.1\"}",
      "text/plain": []
     },
     "metadata": {},
     "output_type": "display_data"
    }
   ],
   "source": [
    "import pandas as pd\n",
    "import seaborn as sb\n",
    "import matplotlib.pyplot as plt\n",
    "import pyspark.sql.functions as F\n",
    "from pyspark.sql import DataFrame\n",
    "import numpy as np\n",
    "from pyspark.sql import SparkSession\n",
    "from pyspark.sql.functions import col, lit\n",
    "import seaborn as sns\n",
    "from pyspark.ml.classification import RandomForestClassifier\n",
    "from pyspark.ml.classification import DecisionTreeClassifier\n",
    "from pyspark.ml.evaluation import MulticlassClassificationEvaluator\n",
    "from pyspark.ml.feature import VectorAssembler, StandardScaler\n",
    "from pyspark.ml.classification import LogisticRegression\n",
    "from pyspark.ml import Pipeline\n",
    "from pyspark.ml.feature import VectorAssembler, StandardScaler\n",
    "from sparkxgb import XGBoostClassifier\n",
    "from pyspark.ml.classification import GBTClassifier\n",
    "from pyspark.ml.classification import MultilayerPerceptronClassifier\n",
    "from pyspark.ml.classification import NaiveBayes\n",
    "from pyspark.mllib.evaluation import MulticlassMetrics"
   ]
  },
  {
   "cell_type": "code",
   "execution_count": 0,
   "metadata": {
    "application/vnd.databricks.v1+cell": {
     "cellMetadata": {
      "byteLimit": 2048000,
      "rowLimit": 10000
     },
     "inputWidgets": {},
     "nuid": "6482be4c-f067-47c9-b0ac-35c938b94601",
     "showTitle": false,
     "title": ""
    }
   },
   "outputs": [],
   "source": [
    "# File location and type\n",
    "file_location = \"/FileStore/tables/diabetes_012_health_indicators_BRFSS2015.csv\"\n",
    "file_type = \"csv\"\n",
    "\n",
    "# CSV options\n",
    "infer_schema = \"true\"\n",
    "first_row_is_header = \"true\"\n",
    "delimiter = \",\"\n",
    "\n",
    "# The applied options are for CSV files. For other file types, these will be ignored.\n",
    "df = spark.read.format(file_type) \\\n",
    "  .option(\"inferSchema\", infer_schema) \\\n",
    "  .option(\"header\", first_row_is_header) \\\n",
    "  .option(\"sep\", delimiter) \\\n",
    "  .load(file_location)\n",
    "\n",
    "display(df)"
   ]
  },
  {
   "cell_type": "code",
   "execution_count": 0,
   "metadata": {
    "application/vnd.databricks.v1+cell": {
     "cellMetadata": {
      "byteLimit": 2048000,
      "rowLimit": 10000
     },
     "inputWidgets": {},
     "nuid": "70f0946a-a755-439a-8943-b6c6336d2bac",
     "showTitle": false,
     "title": ""
    }
   },
   "outputs": [
    {
     "output_type": "stream",
     "name": "stdout",
     "output_type": "stream",
     "text": [
      "Shape of DataFrame: 253680 rows x 22 columns\n"
     ]
    }
   ],
   "source": [
    "num_rows = df.count()\n",
    "\n",
    "# Get the number of columns\n",
    "num_cols = len(df.columns)\n",
    "\n",
    "# Display the shape of the DataFrame\n",
    "print(\"Shape of DataFrame: {} rows x {} columns\".format(num_rows, num_cols))"
   ]
  },
  {
   "cell_type": "code",
   "execution_count": 0,
   "metadata": {
    "application/vnd.databricks.v1+cell": {
     "cellMetadata": {
      "byteLimit": 2048000,
      "rowLimit": 10000
     },
     "inputWidgets": {},
     "nuid": "fd716861-5248-457c-8a9d-3844a33f1185",
     "showTitle": false,
     "title": ""
    }
   },
   "outputs": [
    {
     "output_type": "display_data",
     "data": {
      "text/html": [
       "<style scoped>\n",
       "  .table-result-container {\n",
       "    max-height: 300px;\n",
       "    overflow: auto;\n",
       "  }\n",
       "  table, th, td {\n",
       "    border: 1px solid black;\n",
       "    border-collapse: collapse;\n",
       "  }\n",
       "  th, td {\n",
       "    padding: 5px;\n",
       "  }\n",
       "  th {\n",
       "    text-align: left;\n",
       "  }\n",
       "</style><div class='table-result-container'><table class='table-result'><thead style='background-color: white'><tr><th>summary</th><th>Diabetes_012</th><th>HighBP</th><th>HighChol</th><th>CholCheck</th><th>BMI</th><th>Smoker</th><th>Stroke</th><th>HeartDiseaseorAttack</th><th>PhysActivity</th><th>Fruits</th><th>Veggies</th><th>HvyAlcoholConsump</th><th>AnyHealthcare</th><th>NoDocbcCost</th><th>GenHlth</th><th>MentHlth</th><th>PhysHlth</th><th>DiffWalk</th><th>Sex</th><th>Age</th><th>Education</th><th>Income</th></tr></thead><tbody><tr><td>count</td><td>253680</td><td>253680</td><td>253680</td><td>253680</td><td>253680</td><td>253680</td><td>253680</td><td>253680</td><td>253680</td><td>253680</td><td>253680</td><td>253680</td><td>253680</td><td>253680</td><td>253680</td><td>253680</td><td>253680</td><td>253680</td><td>253680</td><td>253680</td><td>253680</td><td>253680</td></tr><tr><td>mean</td><td>0.29692131819615264</td><td>0.4290011037527594</td><td>0.4241209397666351</td><td>0.9626695048880479</td><td>28.382363607694735</td><td>0.44316855881425415</td><td>0.04057079785556607</td><td>0.09418558814254178</td><td>0.7565436770734784</td><td>0.6342557552822453</td><td>0.811419899085462</td><td>0.05619678334910123</td><td>0.9510525070955534</td><td>0.08417691579943236</td><td>2.5113923052664773</td><td>3.1847721538946705</td><td>4.2420805739514345</td><td>0.16822374645222327</td><td>0.4403421633554084</td><td>8.032119205298013</td><td>5.050433617155472</td><td>6.053874960580258</td></tr><tr><td>stddev</td><td>0.6981597284091021</td><td>0.4949344626899021</td><td>0.49420980465688547</td><td>0.1895707543627256</td><td>6.608694201406024</td><td>0.4967606667785641</td><td>0.19729409940016224</td><td>0.2920873147507561</td><td>0.4291690433970457</td><td>0.4816391871704347</td><td>0.39117547168449035</td><td>0.23030178889522906</td><td>0.21575870631073912</td><td>0.27765350085762475</td><td>1.0684773622803927</td><td>7.412846696196172</td><td>8.717951307175133</td><td>0.3740655947328032</td><td>0.49642916311850555</td><td>3.054220434168482</td><td>0.9857741757276497</td><td>2.0711475662715153</td></tr><tr><td>min</td><td>0.0</td><td>0.0</td><td>0.0</td><td>0.0</td><td>12.0</td><td>0.0</td><td>0.0</td><td>0.0</td><td>0.0</td><td>0.0</td><td>0.0</td><td>0.0</td><td>0.0</td><td>0.0</td><td>1.0</td><td>0.0</td><td>0.0</td><td>0.0</td><td>0.0</td><td>1.0</td><td>1.0</td><td>1.0</td></tr><tr><td>max</td><td>2.0</td><td>1.0</td><td>1.0</td><td>1.0</td><td>98.0</td><td>1.0</td><td>1.0</td><td>1.0</td><td>1.0</td><td>1.0</td><td>1.0</td><td>1.0</td><td>1.0</td><td>1.0</td><td>5.0</td><td>30.0</td><td>30.0</td><td>1.0</td><td>1.0</td><td>13.0</td><td>6.0</td><td>8.0</td></tr></tbody></table></div>"
      ]
     },
     "metadata": {
      "application/vnd.databricks.v1+output": {
       "addedWidgets": {},
       "aggData": [],
       "aggError": "",
       "aggOverflow": false,
       "aggSchema": [],
       "aggSeriesLimitReached": false,
       "aggType": "",
       "arguments": {},
       "columnCustomDisplayInfos": {},
       "data": [
        [
         "count",
         "253680",
         "253680",
         "253680",
         "253680",
         "253680",
         "253680",
         "253680",
         "253680",
         "253680",
         "253680",
         "253680",
         "253680",
         "253680",
         "253680",
         "253680",
         "253680",
         "253680",
         "253680",
         "253680",
         "253680",
         "253680",
         "253680"
        ],
        [
         "mean",
         "0.29692131819615264",
         "0.4290011037527594",
         "0.4241209397666351",
         "0.9626695048880479",
         "28.382363607694735",
         "0.44316855881425415",
         "0.04057079785556607",
         "0.09418558814254178",
         "0.7565436770734784",
         "0.6342557552822453",
         "0.811419899085462",
         "0.05619678334910123",
         "0.9510525070955534",
         "0.08417691579943236",
         "2.5113923052664773",
         "3.1847721538946705",
         "4.2420805739514345",
         "0.16822374645222327",
         "0.4403421633554084",
         "8.032119205298013",
         "5.050433617155472",
         "6.053874960580258"
        ],
        [
         "stddev",
         "0.6981597284091021",
         "0.4949344626899021",
         "0.49420980465688547",
         "0.1895707543627256",
         "6.608694201406024",
         "0.4967606667785641",
         "0.19729409940016224",
         "0.2920873147507561",
         "0.4291690433970457",
         "0.4816391871704347",
         "0.39117547168449035",
         "0.23030178889522906",
         "0.21575870631073912",
         "0.27765350085762475",
         "1.0684773622803927",
         "7.412846696196172",
         "8.717951307175133",
         "0.3740655947328032",
         "0.49642916311850555",
         "3.054220434168482",
         "0.9857741757276497",
         "2.0711475662715153"
        ],
        [
         "min",
         "0.0",
         "0.0",
         "0.0",
         "0.0",
         "12.0",
         "0.0",
         "0.0",
         "0.0",
         "0.0",
         "0.0",
         "0.0",
         "0.0",
         "0.0",
         "0.0",
         "1.0",
         "0.0",
         "0.0",
         "0.0",
         "0.0",
         "1.0",
         "1.0",
         "1.0"
        ],
        [
         "max",
         "2.0",
         "1.0",
         "1.0",
         "1.0",
         "98.0",
         "1.0",
         "1.0",
         "1.0",
         "1.0",
         "1.0",
         "1.0",
         "1.0",
         "1.0",
         "1.0",
         "5.0",
         "30.0",
         "30.0",
         "1.0",
         "1.0",
         "13.0",
         "6.0",
         "8.0"
        ]
       ],
       "datasetInfos": [],
       "dbfsResultPath": null,
       "isJsonSchema": true,
       "metadata": {},
       "overflow": false,
       "plotOptions": {
        "customPlotOptions": {},
        "displayType": "table",
        "pivotAggregation": null,
        "pivotColumns": null,
        "xColumns": null,
        "yColumns": null
       },
       "removedWidgets": [],
       "schema": [
        {
         "metadata": "{}",
         "name": "summary",
         "type": "\"string\""
        },
        {
         "metadata": "{}",
         "name": "Diabetes_012",
         "type": "\"string\""
        },
        {
         "metadata": "{}",
         "name": "HighBP",
         "type": "\"string\""
        },
        {
         "metadata": "{}",
         "name": "HighChol",
         "type": "\"string\""
        },
        {
         "metadata": "{}",
         "name": "CholCheck",
         "type": "\"string\""
        },
        {
         "metadata": "{}",
         "name": "BMI",
         "type": "\"string\""
        },
        {
         "metadata": "{}",
         "name": "Smoker",
         "type": "\"string\""
        },
        {
         "metadata": "{}",
         "name": "Stroke",
         "type": "\"string\""
        },
        {
         "metadata": "{}",
         "name": "HeartDiseaseorAttack",
         "type": "\"string\""
        },
        {
         "metadata": "{}",
         "name": "PhysActivity",
         "type": "\"string\""
        },
        {
         "metadata": "{}",
         "name": "Fruits",
         "type": "\"string\""
        },
        {
         "metadata": "{}",
         "name": "Veggies",
         "type": "\"string\""
        },
        {
         "metadata": "{}",
         "name": "HvyAlcoholConsump",
         "type": "\"string\""
        },
        {
         "metadata": "{}",
         "name": "AnyHealthcare",
         "type": "\"string\""
        },
        {
         "metadata": "{}",
         "name": "NoDocbcCost",
         "type": "\"string\""
        },
        {
         "metadata": "{}",
         "name": "GenHlth",
         "type": "\"string\""
        },
        {
         "metadata": "{}",
         "name": "MentHlth",
         "type": "\"string\""
        },
        {
         "metadata": "{}",
         "name": "PhysHlth",
         "type": "\"string\""
        },
        {
         "metadata": "{}",
         "name": "DiffWalk",
         "type": "\"string\""
        },
        {
         "metadata": "{}",
         "name": "Sex",
         "type": "\"string\""
        },
        {
         "metadata": "{}",
         "name": "Age",
         "type": "\"string\""
        },
        {
         "metadata": "{}",
         "name": "Education",
         "type": "\"string\""
        },
        {
         "metadata": "{}",
         "name": "Income",
         "type": "\"string\""
        }
       ],
       "type": "table"
      }
     },
     "output_type": "display_data"
    }
   ],
   "source": [
    "descriptive_stats = df.describe()\n",
    "display(descriptive_stats)"
   ]
  },
  {
   "cell_type": "code",
   "execution_count": 0,
   "metadata": {
    "application/vnd.databricks.v1+cell": {
     "cellMetadata": {
      "byteLimit": 2048000,
      "rowLimit": 10000
     },
     "inputWidgets": {},
     "nuid": "71664201-21ac-41b6-9e7e-a07a4ad050b1",
     "showTitle": false,
     "title": ""
    }
   },
   "outputs": [
    {
     "output_type": "stream",
     "name": "stdout",
     "output_type": "stream",
     "text": [
      "Unique values of column 'Diabetes_012': [0.0, 1.0, 2.0]\n"
     ]
    }
   ],
   "source": [
    "unique_values = df.select(\"Diabetes_012\").distinct().collect()\n",
    "\n",
    "# Extract the unique values from the result\n",
    "unique_values_list = [row[\"Diabetes_012\"] for row in unique_values]\n",
    "\n",
    "# Print the unique values\n",
    "print(\"Unique values of column 'Diabetes_012':\", unique_values_list)"
   ]
  },
  {
   "cell_type": "code",
   "execution_count": 0,
   "metadata": {
    "application/vnd.databricks.v1+cell": {
     "cellMetadata": {
      "byteLimit": 2048000,
      "rowLimit": 10000
     },
     "inputWidgets": {},
     "nuid": "4c9c3934-40df-4645-9b29-1ea4781b0af1",
     "showTitle": false,
     "title": ""
    }
   },
   "outputs": [],
   "source": [
    "# Assuming 'df' is your DataFrame\n",
    "\n",
    "# Group by 'Diabetes_012' column and count the occurrences of each value\n",
    "class_counts = df.groupBy('Diabetes_012').count().orderBy('Diabetes_012').collect()\n",
    "\n",
    "# Extract values for plotting\n",
    "labels = [row['Diabetes_012'] for row in class_counts]\n",
    "counts = [row['count'] for row in class_counts]\n",
    "\n",
    "# Plot the bar chart\n",
    "plt.figure(figsize=(8, 6))\n",
    "plt.bar(labels, counts, color='skyblue')\n",
    "plt.title('Count Of Diabetes labels')\n",
    "plt.xlabel('Diabetes')\n",
    "plt.ylabel('Count')\n",
    "plt.xticks(rotation=45)\n",
    "\n",
    "# Annotate each bar with its count and percentage\n",
    "for i, count in enumerate(counts):\n",
    "    percentage = (count / sum(counts)) * 100\n",
    "    plt.text(i, count + 0.1, f'{count} ({percentage:.2f}%)', ha='center', va='bottom')\n",
    "\n",
    "# Show the plot\n",
    "plt.show()\n"
   ]
  },
  {
   "cell_type": "code",
   "execution_count": 0,
   "metadata": {
    "application/vnd.databricks.v1+cell": {
     "cellMetadata": {
      "byteLimit": 2048000,
      "rowLimit": 10000
     },
     "inputWidgets": {},
     "nuid": "58fdf914-b8e9-46b4-8217-fcf8b9789748",
     "showTitle": false,
     "title": ""
    }
   },
   "outputs": [
    {
     "output_type": "stream",
     "name": "stdout",
     "output_type": "stream",
     "text": [
      "Out[7]: (253680, 22)"
     ]
    }
   ],
   "source": [
    "new_df = df.toPandas()\n",
    "new_df.head()\n",
    "new_df.shape"
   ]
  },
  {
   "cell_type": "code",
   "execution_count": 0,
   "metadata": {
    "application/vnd.databricks.v1+cell": {
     "cellMetadata": {
      "byteLimit": 2048000,
      "rowLimit": 10000
     },
     "inputWidgets": {},
     "nuid": "65794192-59d3-45c1-a8c3-4ba8704878af",
     "showTitle": false,
     "title": ""
    }
   },
   "outputs": [
    {
     "output_type": "stream",
     "name": "stdout",
     "output_type": "stream",
     "text": [
      "<class 'pandas.core.frame.DataFrame'>\nRangeIndex: 253680 entries, 0 to 253679\nData columns (total 22 columns):\n #   Column                Non-Null Count   Dtype  \n---  ------                --------------   -----  \n 0   Diabetes_012          253680 non-null  float64\n 1   HighBP                253680 non-null  float64\n 2   HighChol              253680 non-null  float64\n 3   CholCheck             253680 non-null  float64\n 4   BMI                   253680 non-null  float64\n 5   Smoker                253680 non-null  float64\n 6   Stroke                253680 non-null  float64\n 7   HeartDiseaseorAttack  253680 non-null  float64\n 8   PhysActivity          253680 non-null  float64\n 9   Fruits                253680 non-null  float64\n 10  Veggies               253680 non-null  float64\n 11  HvyAlcoholConsump     253680 non-null  float64\n 12  AnyHealthcare         253680 non-null  float64\n 13  NoDocbcCost           253680 non-null  float64\n 14  GenHlth               253680 non-null  float64\n 15  MentHlth              253680 non-null  float64\n 16  PhysHlth              253680 non-null  float64\n 17  DiffWalk              253680 non-null  float64\n 18  Sex                   253680 non-null  float64\n 19  Age                   253680 non-null  float64\n 20  Education             253680 non-null  float64\n 21  Income                253680 non-null  float64\ndtypes: float64(22)\nmemory usage: 42.6 MB\n"
     ]
    }
   ],
   "source": [
    "new_df.info()"
   ]
  },
  {
   "cell_type": "code",
   "execution_count": 0,
   "metadata": {
    "application/vnd.databricks.v1+cell": {
     "cellMetadata": {
      "byteLimit": 2048000,
      "rowLimit": 10000
     },
     "inputWidgets": {},
     "nuid": "71b9ddec-8eb8-4009-9134-455f0a8b0d35",
     "showTitle": false,
     "title": ""
    }
   },
   "outputs": [
    {
     "output_type": "stream",
     "name": "stdout",
     "output_type": "stream",
     "text": [
      "Out[9]: <AxesSubplot:xlabel='HighBP', ylabel='BMI'>"
     ]
    },
    {
     "output_type": "display_data",
     "data": {
      "image/png": "[encoded data removed]"
     },
     "metadata": {
      "application/vnd.databricks.v1+output": {
       "addedWidgets": {},
       "arguments": {},
       "data": "data:image/png;base64,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\n",
       "datasetInfos": [],
       "metadata": {},
       "removedWidgets": [],
       "type": "image"
      }
     },
     "output_type": "display_data"
    }
   ],
   "source": [
    "sb.barplot(data=new_df, x=\"HighBP\", y=\"BMI\")"
   ]
  },
  {
   "cell_type": "code",
   "execution_count": 0,
   "metadata": {
    "application/vnd.databricks.v1+cell": {
     "cellMetadata": {
      "byteLimit": 2048000,
      "rowLimit": 10000
     },
     "inputWidgets": {},
     "nuid": "34b74d5a-e50b-4fa4-8617-4610e35635bc",
     "showTitle": false,
     "title": ""
    }
   },
   "outputs": [],
   "source": [
    "sb.histplot(data=new_df, x=\"BMI\", kde=True)"
   ]
  },
  {
   "cell_type": "code",
   "execution_count": 0,
   "metadata": {
    "application/vnd.databricks.v1+cell": {
     "cellMetadata": {
      "byteLimit": 2048000,
      "rowLimit": 10000
     },
     "inputWidgets": {},
     "nuid": "c5c7e68d-1206-4e49-83aa-5abe06c5f23b",
     "showTitle": false,
     "title": ""
    }
   },
   "outputs": [
    {
     "output_type": "stream",
     "name": "stdout",
     "output_type": "stream",
     "text": [
      "Out[11]: <AxesSubplot:xlabel='CholCheck', ylabel='BMI'>"
     ]
    },
    {
     "output_type": "display_data",
     "data": {
      "image/png": "[encoded data removed]"
     },
     "metadata": {
      "application/vnd.databricks.v1+output": {
       "addedWidgets": {},
       "arguments": {},
       "data": "data:image/png;base64,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\n",
       "datasetInfos": [],
       "metadata": {},
       "removedWidgets": [],
       "type": "image"
      }
     },
     "output_type": "display_data"
    }
   ],
   "source": [
    "sb.boxplot(data=new_df, x=\"CholCheck\", y=\"BMI\")"
   ]
  },
  {
   "cell_type": "code",
   "execution_count": 0,
   "metadata": {
    "application/vnd.databricks.v1+cell": {
     "cellMetadata": {
      "byteLimit": 2048000,
      "rowLimit": 10000
     },
     "inputWidgets": {},
     "nuid": "82f9f0ed-fd02-4048-8e56-ea42ecb7415a",
     "showTitle": false,
     "title": ""
    }
   },
   "outputs": [
    {
     "output_type": "stream",
     "name": "stdout",
     "output_type": "stream",
     "text": [
      "Out[12]: <AxesSubplot:xlabel='Age', ylabel='BMI'>"
     ]
    },
    {
     "output_type": "display_data",
     "data": {
      "image/png": "[encoded data removed]"
     },
     "metadata": {
      "application/vnd.databricks.v1+output": {
       "addedWidgets": {},
       "arguments": {},
       "data": "data:image/png;base64,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\n",
       "datasetInfos": [],
       "metadata": {},
       "removedWidgets": [],
       "type": "image"
      }
     },
     "output_type": "display_data"
    }
   ],
   "source": [
    "sb.barplot(data=new_df, x=\"Age\", y=\"BMI\")"
   ]
  },
  {
   "cell_type": "code",
   "execution_count": 0,
   "metadata": {
    "application/vnd.databricks.v1+cell": {
     "cellMetadata": {
      "byteLimit": 2048000,
      "rowLimit": 10000
     },
     "inputWidgets": {},
     "nuid": "70ec3b66-1dee-4263-bc7e-acfe47efb55e",
     "showTitle": false,
     "title": ""
    }
   },
   "outputs": [
    {
     "output_type": "display_data",
     "data": {
      "text/html": [
       "<div>\n",
       "<style scoped>\n",
       "    .dataframe tbody tr th:only-of-type {\n",
       "        vertical-align: middle;\n",
       "    }\n",
       "\n",
       "    .dataframe tbody tr th {\n",
       "        vertical-align: top;\n",
       "    }\n",
       "\n",
       "    .dataframe thead th {\n",
       "        text-align: right;\n",
       "    }\n",
       "</style>\n",
       "<table border=\"1\" class=\"dataframe\">\n",
       "  <thead>\n",
       "    <tr style=\"text-align: right;\">\n",
       "      <th>HeartDiseaseorAttack</th>\n",
       "      <th>0.0</th>\n",
       "      <th>1.0</th>\n",
       "    </tr>\n",
       "    <tr>\n",
       "      <th>HighChol</th>\n",
       "      <th></th>\n",
       "      <th></th>\n",
       "    </tr>\n",
       "  </thead>\n",
       "  <tbody>\n",
       "    <tr>\n",
       "      <th>0.0</th>\n",
       "      <td>138949</td>\n",
       "      <td>7140</td>\n",
       "    </tr>\n",
       "    <tr>\n",
       "      <th>1.0</th>\n",
       "      <td>90838</td>\n",
       "      <td>16753</td>\n",
       "    </tr>\n",
       "  </tbody>\n",
       "</table>\n",
       "</div>"
      ]
     },
     "metadata": {
      "application/vnd.databricks.v1+output": {
       "addedWidgets": {},
       "arguments": {},
       "data": "<div>\n<style scoped>\n    .dataframe tbody tr th:only-of-type {\n        vertical-align: middle;\n    }\n\n    .dataframe tbody tr th {\n        vertical-align: top;\n    }\n\n    .dataframe thead th {\n        text-align: right;\n    }\n</style>\n<table border=\"1\" class=\"dataframe\">\n  <thead>\n    <tr style=\"text-align: right;\">\n      <th>HeartDiseaseorAttack</th>\n      <th>0.0</th>\n      <th>1.0</th>\n    </tr>\n    <tr>\n      <th>HighChol</th>\n      <th></th>\n      <th></th>\n    </tr>\n  </thead>\n  <tbody>\n    <tr>\n      <th>0.0</th>\n      <td>138949</td>\n      <td>7140</td>\n    </tr>\n    <tr>\n      <th>1.0</th>\n      <td>90838</td>\n      <td>16753</td>\n    </tr>\n  </tbody>\n</table>\n</div>",
       "datasetInfos": [],
       "metadata": {},
       "removedWidgets": [],
       "textData": null,
       "type": "htmlSandbox"
      }
     },
     "output_type": "display_data"
    }
   ],
   "source": [
    "pd.crosstab(new_df[\"HighChol\"], new_df[\"HeartDiseaseorAttack\"])"
   ]
  },
  {
   "cell_type": "code",
   "execution_count": 0,
   "metadata": {
    "application/vnd.databricks.v1+cell": {
     "cellMetadata": {
      "byteLimit": 2048000,
      "rowLimit": 10000
     },
     "inputWidgets": {},
     "nuid": "f44fa134-faa2-4a86-870b-10e4be54c3ba",
     "showTitle": false,
     "title": ""
    }
   },
   "outputs": [
    {
     "output_type": "display_data",
     "data": {
      "text/html": [
       "<div>\n",
       "<style scoped>\n",
       "    .dataframe tbody tr th:only-of-type {\n",
       "        vertical-align: middle;\n",
       "    }\n",
       "\n",
       "    .dataframe tbody tr th {\n",
       "        vertical-align: top;\n",
       "    }\n",
       "\n",
       "    .dataframe thead th {\n",
       "        text-align: right;\n",
       "    }\n",
       "</style>\n",
       "<table border=\"1\" class=\"dataframe\">\n",
       "  <thead>\n",
       "    <tr style=\"text-align: right;\">\n",
       "      <th></th>\n",
       "      <th>HeartDiseaseorAttack</th>\n",
       "      <th>0.0</th>\n",
       "      <th>1.0</th>\n",
       "    </tr>\n",
       "    <tr>\n",
       "      <th>Fruits</th>\n",
       "      <th>Veggies</th>\n",
       "      <th></th>\n",
       "      <th></th>\n",
       "    </tr>\n",
       "  </thead>\n",
       "  <tbody>\n",
       "    <tr>\n",
       "      <th rowspan=\"2\" valign=\"top\">0.0</th>\n",
       "      <th>0.0</th>\n",
       "      <td>26154</td>\n",
       "      <td>3499</td>\n",
       "    </tr>\n",
       "    <tr>\n",
       "      <th>1.0</th>\n",
       "      <td>57183</td>\n",
       "      <td>5946</td>\n",
       "    </tr>\n",
       "    <tr>\n",
       "      <th rowspan=\"2\" valign=\"top\">1.0</th>\n",
       "      <th>0.0</th>\n",
       "      <td>16044</td>\n",
       "      <td>2142</td>\n",
       "    </tr>\n",
       "    <tr>\n",
       "      <th>1.0</th>\n",
       "      <td>130406</td>\n",
       "      <td>12306</td>\n",
       "    </tr>\n",
       "  </tbody>\n",
       "</table>\n",
       "</div>"
      ]
     },
     "metadata": {
      "application/vnd.databricks.v1+output": {
       "addedWidgets": {},
       "arguments": {},
       "data": "<div>\n<style scoped>\n    .dataframe tbody tr th:only-of-type {\n        vertical-align: middle;\n    }\n\n    .dataframe tbody tr th {\n        vertical-align: top;\n    }\n\n    .dataframe thead th {\n        text-align: right;\n    }\n</style>\n<table border=\"1\" class=\"dataframe\">\n  <thead>\n    <tr style=\"text-align: right;\">\n      <th></th>\n      <th>HeartDiseaseorAttack</th>\n      <th>0.0</th>\n      <th>1.0</th>\n    </tr>\n    <tr>\n      <th>Fruits</th>\n      <th>Veggies</th>\n      <th></th>\n      <th></th>\n    </tr>\n  </thead>\n  <tbody>\n    <tr>\n      <th rowspan=\"2\" valign=\"top\">0.0</th>\n      <th>0.0</th>\n      <td>26154</td>\n      <td>3499</td>\n    </tr>\n    <tr>\n      <th>1.0</th>\n      <td>57183</td>\n      <td>5946</td>\n    </tr>\n    <tr>\n      <th rowspan=\"2\" valign=\"top\">1.0</th>\n      <th>0.0</th>\n      <td>16044</td>\n      <td>2142</td>\n    </tr>\n    <tr>\n      <th>1.0</th>\n      <td>130406</td>\n      <td>12306</td>\n    </tr>\n  </tbody>\n</table>\n</div>",
       "datasetInfos": [],
       "metadata": {},
       "removedWidgets": [],
       "textData": null,
       "type": "htmlSandbox"
      }
     },
     "output_type": "display_data"
    }
   ],
   "source": [
    "pd.crosstab([new_df[\"Fruits\"], new_df[\"Veggies\"]], new_df[\"HeartDiseaseorAttack\"])"
   ]
  },
  {
   "cell_type": "code",
   "execution_count": 0,
   "metadata": {
    "application/vnd.databricks.v1+cell": {
     "cellMetadata": {
      "byteLimit": 2048000,
      "rowLimit": 10000
     },
     "inputWidgets": {},
     "nuid": "4bbc9643-e29e-423e-8b6c-380197bd6caf",
     "showTitle": false,
     "title": ""
    }
   },
   "outputs": [
    {
     "output_type": "stream",
     "name": "stdout",
     "output_type": "stream",
     "text": [
      "Out[15]: <AxesSubplot:xlabel='Stroke', ylabel='BMI'>"
     ]
    },
    {
     "output_type": "display_data",
     "data": {
      "image/png": "[encoded data removed]"
     },
     "metadata": {
      "application/vnd.databricks.v1+output": {
       "addedWidgets": {},
       "arguments": {},
       "data": "data:image/png;base64,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\n",
       "datasetInfos": [],
       "metadata": {},
       "removedWidgets": [],
       "type": "image"
      }
     },
     "output_type": "display_data"
    }
   ],
   "source": [
    "sb.barplot(data=new_df, x=\"Stroke\", y=\"BMI\")"
   ]
  },
  {
   "cell_type": "code",
   "execution_count": 0,
   "metadata": {
    "application/vnd.databricks.v1+cell": {
     "cellMetadata": {
      "byteLimit": 2048000,
      "rowLimit": 10000
     },
     "inputWidgets": {},
     "nuid": "b461a690-83e0-43ed-bd5b-442533a5f441",
     "showTitle": false,
     "title": ""
    }
   },
   "outputs": [
    {
     "output_type": "display_data",
     "data": {
      "text/html": [
       "<div>\n",
       "<style scoped>\n",
       "    .dataframe tbody tr th:only-of-type {\n",
       "        vertical-align: middle;\n",
       "    }\n",
       "\n",
       "    .dataframe tbody tr th {\n",
       "        vertical-align: top;\n",
       "    }\n",
       "\n",
       "    .dataframe thead th {\n",
       "        text-align: right;\n",
       "    }\n",
       "</style>\n",
       "<table border=\"1\" class=\"dataframe\">\n",
       "  <thead>\n",
       "    <tr style=\"text-align: right;\">\n",
       "      <th>Stroke</th>\n",
       "      <th>0.0</th>\n",
       "      <th>1.0</th>\n",
       "    </tr>\n",
       "    <tr>\n",
       "      <th>Smoker</th>\n",
       "      <th></th>\n",
       "      <th></th>\n",
       "    </tr>\n",
       "  </thead>\n",
       "  <tbody>\n",
       "    <tr>\n",
       "      <th>0.0</th>\n",
       "      <td>137047</td>\n",
       "      <td>4210</td>\n",
       "    </tr>\n",
       "    <tr>\n",
       "      <th>1.0</th>\n",
       "      <td>106341</td>\n",
       "      <td>6082</td>\n",
       "    </tr>\n",
       "  </tbody>\n",
       "</table>\n",
       "</div>"
      ]
     },
     "metadata": {
      "application/vnd.databricks.v1+output": {
       "addedWidgets": {},
       "arguments": {},
       "data": "<div>\n<style scoped>\n    .dataframe tbody tr th:only-of-type {\n        vertical-align: middle;\n    }\n\n    .dataframe tbody tr th {\n        vertical-align: top;\n    }\n\n    .dataframe thead th {\n        text-align: right;\n    }\n</style>\n<table border=\"1\" class=\"dataframe\">\n  <thead>\n    <tr style=\"text-align: right;\">\n      <th>Stroke</th>\n      <th>0.0</th>\n      <th>1.0</th>\n    </tr>\n    <tr>\n      <th>Smoker</th>\n      <th></th>\n      <th></th>\n    </tr>\n  </thead>\n  <tbody>\n    <tr>\n      <th>0.0</th>\n      <td>137047</td>\n      <td>4210</td>\n    </tr>\n    <tr>\n      <th>1.0</th>\n      <td>106341</td>\n      <td>6082</td>\n    </tr>\n  </tbody>\n</table>\n</div>",
       "datasetInfos": [],
       "metadata": {},
       "removedWidgets": [],
       "textData": null,
       "type": "htmlSandbox"
      }
     },
     "output_type": "display_data"
    }
   ],
   "source": [
    "pd.crosstab(new_df[\"Smoker\"], new_df[\"Stroke\"])"
   ]
  },
  {
   "cell_type": "code",
   "execution_count": 0,
   "metadata": {
    "application/vnd.databricks.v1+cell": {
     "cellMetadata": {
      "byteLimit": 2048000,
      "rowLimit": 10000
     },
     "inputWidgets": {},
     "nuid": "33065abc-97ef-4604-9723-3ff6256fd237",
     "showTitle": false,
     "title": ""
    }
   },
   "outputs": [
    {
     "output_type": "display_data",
     "data": {
      "text/html": [
       "<div>\n",
       "<style scoped>\n",
       "    .dataframe tbody tr th:only-of-type {\n",
       "        vertical-align: middle;\n",
       "    }\n",
       "\n",
       "    .dataframe tbody tr th {\n",
       "        vertical-align: top;\n",
       "    }\n",
       "\n",
       "    .dataframe thead th {\n",
       "        text-align: right;\n",
       "    }\n",
       "</style>\n",
       "<table border=\"1\" class=\"dataframe\">\n",
       "  <thead>\n",
       "    <tr style=\"text-align: right;\">\n",
       "      <th>HeartDiseaseorAttack</th>\n",
       "      <th>0.0</th>\n",
       "      <th>1.0</th>\n",
       "    </tr>\n",
       "    <tr>\n",
       "      <th>HvyAlcoholConsump</th>\n",
       "      <th></th>\n",
       "      <th></th>\n",
       "    </tr>\n",
       "  </thead>\n",
       "  <tbody>\n",
       "    <tr>\n",
       "      <th>0.0</th>\n",
       "      <td>216379</td>\n",
       "      <td>23045</td>\n",
       "    </tr>\n",
       "    <tr>\n",
       "      <th>1.0</th>\n",
       "      <td>13408</td>\n",
       "      <td>848</td>\n",
       "    </tr>\n",
       "  </tbody>\n",
       "</table>\n",
       "</div>"
      ]
     },
     "metadata": {
      "application/vnd.databricks.v1+output": {
       "addedWidgets": {},
       "arguments": {},
       "data": "<div>\n<style scoped>\n    .dataframe tbody tr th:only-of-type {\n        vertical-align: middle;\n    }\n\n    .dataframe tbody tr th {\n        vertical-align: top;\n    }\n\n    .dataframe thead th {\n        text-align: right;\n    }\n</style>\n<table border=\"1\" class=\"dataframe\">\n  <thead>\n    <tr style=\"text-align: right;\">\n      <th>HeartDiseaseorAttack</th>\n      <th>0.0</th>\n      <th>1.0</th>\n    </tr>\n    <tr>\n      <th>HvyAlcoholConsump</th>\n      <th></th>\n      <th></th>\n    </tr>\n  </thead>\n  <tbody>\n    <tr>\n      <th>0.0</th>\n      <td>216379</td>\n      <td>23045</td>\n    </tr>\n    <tr>\n      <th>1.0</th>\n      <td>13408</td>\n      <td>848</td>\n    </tr>\n  </tbody>\n</table>\n</div>",
       "datasetInfos": [],
       "metadata": {},
       "removedWidgets": [],
       "textData": null,
       "type": "htmlSandbox"
      }
     },
     "output_type": "display_data"
    }
   ],
   "source": [
    "pd.crosstab(new_df[\"HvyAlcoholConsump\"], new_df[\"HeartDiseaseorAttack\"])"
   ]
  },
  {
   "cell_type": "code",
   "execution_count": 0,
   "metadata": {
    "application/vnd.databricks.v1+cell": {
     "cellMetadata": {
      "byteLimit": 2048000,
      "rowLimit": 10000
     },
     "inputWidgets": {},
     "nuid": "a90b82c6-9822-48e7-aa76-2eb0fc624394",
     "showTitle": false,
     "title": ""
    }
   },
   "outputs": [
    {
     "output_type": "stream",
     "name": "stdout",
     "output_type": "stream",
     "text": [
      "Out[18]: <AxesSubplot:xlabel='HvyAlcoholConsump', ylabel='BMI'>"
     ]
    },
    {
     "output_type": "display_data",
     "data": {
      "image/png": "[encoded data removed]"
     },
     "metadata": {
      "application/vnd.databricks.v1+output": {
       "addedWidgets": {},
       "arguments": {},
       "data": "data:image/png;base64,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\n",
       "datasetInfos": [],
       "metadata": {},
       "removedWidgets": [],
       "type": "image"
      }
     },
     "output_type": "display_data"
    }
   ],
   "source": [
    "sb.barplot(data=new_df, x=\"HvyAlcoholConsump\", y=\"BMI\")"
   ]
  },
  {
   "cell_type": "code",
   "execution_count": 0,
   "metadata": {
    "application/vnd.databricks.v1+cell": {
     "cellMetadata": {
      "byteLimit": 2048000,
      "rowLimit": 10000
     },
     "inputWidgets": {},
     "nuid": "5e719ec2-53a4-40cb-9e7b-534eae67c057",
     "showTitle": false,
     "title": ""
    }
   },
   "outputs": [],
   "source": [
    "corr = df.toPandas().corr()\n",
    "# Plot the heatmap\n",
    "plt.figure(figsize=(20, 10))\n",
    "sb.heatmap(corr, annot=True, cmap='coolwarm', fmt=\".2f\", linewidths=0.5)\n",
    "plt.title('Correlation Heatmap')\n",
    "plt.show()"
   ]
  },
  {
   "cell_type": "markdown",
   "metadata": {
    "application/vnd.databricks.v1+cell": {
     "cellMetadata": {
      "byteLimit": 2048000,
      "rowLimit": 10000
     },
     "inputWidgets": {},
     "nuid": "f3728612-165a-4e03-ac41-7f920792e791",
     "showTitle": false,
     "title": ""
    }
   },
   "source": [
    "RDDs can also be used for performing these operations, but it would take much more time for simple preprocessing activities"
   ]
  },
  {
   "cell_type": "code",
   "execution_count": 0,
   "metadata": {
    "application/vnd.databricks.v1+cell": {
     "cellMetadata": {
      "byteLimit": 2048000,
      "rowLimit": 10000
     },
     "inputWidgets": {},
     "nuid": "90a20647-78c8-49ff-b87a-69ebb17df132",
     "showTitle": false,
     "title": ""
    }
   },
   "outputs": [
    {
     "output_type": "stream",
     "name": "stdout",
     "output_type": "stream",
     "text": [
      "All Duplicate Rows after dropping duplicates:\n"
     ]
    },
    {
     "output_type": "stream",
     "name": "stderr",
     "output_type": "stream",
     "text": [
      "/databricks/spark/python/pyspark/sql/dataframe.py:331: FutureWarning: Deprecated in 2.0, use createOrReplaceTempView instead.\n  warnings.warn(\"Deprecated in 2.0, use createOrReplaceTempView instead.\", FutureWarning)\n"
     ]
    },
    {
     "output_type": "display_data",
     "data": {
      "text/html": [
       "<style scoped>\n",
       "  .table-result-container {\n",
       "    max-height: 300px;\n",
       "    overflow: auto;\n",
       "  }\n",
       "  table, th, td {\n",
       "    border: 1px solid black;\n",
       "    border-collapse: collapse;\n",
       "  }\n",
       "  th, td {\n",
       "    padding: 5px;\n",
       "  }\n",
       "  th {\n",
       "    text-align: left;\n",
       "  }\n",
       "</style><div class='table-result-container'><table class='table-result'><thead style='background-color: white'><tr><th>Diabetes_012</th><th>HighBP</th><th>HighChol</th><th>CholCheck</th><th>BMI</th><th>Smoker</th><th>Stroke</th><th>HeartDiseaseorAttack</th><th>PhysActivity</th><th>Fruits</th><th>Veggies</th><th>HvyAlcoholConsump</th><th>AnyHealthcare</th><th>NoDocbcCost</th><th>GenHlth</th><th>MentHlth</th><th>PhysHlth</th><th>DiffWalk</th><th>Sex</th><th>Age</th><th>Education</th><th>Income</th></tr></thead><tbody></tbody></table></div>"
      ]
     },
     "metadata": {
      "application/vnd.databricks.v1+output": {
       "addedWidgets": {},
       "aggData": [],
       "aggError": "",
       "aggOverflow": false,
       "aggSchema": [],
       "aggSeriesLimitReached": false,
       "aggType": "",
       "arguments": {},
       "columnCustomDisplayInfos": {},
       "data": [],
       "datasetInfos": [],
       "dbfsResultPath": null,
       "isJsonSchema": true,
       "metadata": {},
       "overflow": false,
       "plotOptions": {
        "customPlotOptions": {},
        "displayType": "table",
        "pivotAggregation": null,
        "pivotColumns": null,
        "xColumns": null,
        "yColumns": null
       },
       "removedWidgets": [],
       "schema": [
        {
         "metadata": "{}",
         "name": "Diabetes_012",
         "type": "\"double\""
        },
        {
         "metadata": "{}",
         "name": "HighBP",
         "type": "\"double\""
        },
        {
         "metadata": "{}",
         "name": "HighChol",
         "type": "\"double\""
        },
        {
         "metadata": "{}",
         "name": "CholCheck",
         "type": "\"double\""
        },
        {
         "metadata": "{}",
         "name": "BMI",
         "type": "\"double\""
        },
        {
         "metadata": "{}",
         "name": "Smoker",
         "type": "\"double\""
        },
        {
         "metadata": "{}",
         "name": "Stroke",
         "type": "\"double\""
        },
        {
         "metadata": "{}",
         "name": "HeartDiseaseorAttack",
         "type": "\"double\""
        },
        {
         "metadata": "{}",
         "name": "PhysActivity",
         "type": "\"double\""
        },
        {
         "metadata": "{}",
         "name": "Fruits",
         "type": "\"double\""
        },
        {
         "metadata": "{}",
         "name": "Veggies",
         "type": "\"double\""
        },
        {
         "metadata": "{}",
         "name": "HvyAlcoholConsump",
         "type": "\"double\""
        },
        {
         "metadata": "{}",
         "name": "AnyHealthcare",
         "type": "\"double\""
        },
        {
         "metadata": "{}",
         "name": "NoDocbcCost",
         "type": "\"double\""
        },
        {
         "metadata": "{}",
         "name": "GenHlth",
         "type": "\"double\""
        },
        {
         "metadata": "{}",
         "name": "MentHlth",
         "type": "\"double\""
        },
        {
         "metadata": "{}",
         "name": "PhysHlth",
         "type": "\"double\""
        },
        {
         "metadata": "{}",
         "name": "DiffWalk",
         "type": "\"double\""
        },
        {
         "metadata": "{}",
         "name": "Sex",
         "type": "\"double\""
        },
        {
         "metadata": "{}",
         "name": "Age",
         "type": "\"double\""
        },
        {
         "metadata": "{}",
         "name": "Education",
         "type": "\"double\""
        },
        {
         "metadata": "{}",
         "name": "Income",
         "type": "\"double\""
        }
       ],
       "type": "table"
      }
     },
     "output_type": "display_data"
    }
   ],
   "source": [
    "df_cleaned = df.dropDuplicates()\n",
    "\n",
    "# Show all duplicate rows (if any)\n",
    "print(\"All Duplicate Rows after dropping duplicates:\")\n",
    "df_cleaned.registerTempTable(\"df_cleaned_table\")\n",
    "duplicate_rows = spark.sql(\"\"\"\n",
    "    SELECT *\n",
    "    FROM df_cleaned_table\n",
    "    GROUP BY {}\n",
    "    HAVING COUNT(*) > 1\n",
    "\"\"\".format(\", \".join(df_cleaned.columns)))\n",
    "display(duplicate_rows)\n"
   ]
  },
  {
   "cell_type": "markdown",
   "metadata": {
    "application/vnd.databricks.v1+cell": {
     "cellMetadata": {
      "byteLimit": 2048000,
      "rowLimit": 10000
     },
     "inputWidgets": {},
     "nuid": "c6608c91-ef9f-43be-a334-6fd035e523c4",
     "showTitle": false,
     "title": ""
    }
   },
   "source": [
    "Spark SQL used"
   ]
  },
  {
   "cell_type": "code",
   "execution_count": 0,
   "metadata": {
    "application/vnd.databricks.v1+cell": {
     "cellMetadata": {
      "byteLimit": 2048000,
      "rowLimit": 10000
     },
     "inputWidgets": {},
     "nuid": "b0f87e26-f162-41ae-808c-986deee97312",
     "showTitle": false,
     "title": ""
    }
   },
   "outputs": [
    {
     "output_type": "stream",
     "name": "stdout",
     "output_type": "stream",
     "text": [
      "Shape of DataFrame after cleaning: 229781 rows x 22 columns\n"
     ]
    }
   ],
   "source": [
    "num_rows = df_cleaned.count()\n",
    "\n",
    "# Get the number of columns\n",
    "num_cols = len(df_cleaned.columns)\n",
    "\n",
    "# Show the shape of the DataFrame\n",
    "print(\"Shape of DataFrame after cleaning: {} rows x {} columns\".format(num_rows, num_cols))"
   ]
  },
  {
   "cell_type": "code",
   "execution_count": 0,
   "metadata": {
    "application/vnd.databricks.v1+cell": {
     "cellMetadata": {
      "byteLimit": 2048000,
      "rowLimit": 10000
     },
     "inputWidgets": {},
     "nuid": "fcb73c37-7010-4fb6-8cd2-1dcbbd1caca8",
     "showTitle": false,
     "title": ""
    }
   },
   "outputs": [],
   "source": [
    "quantiles = df_cleaned.stat.approxQuantile(\"BMI\", [0.25, 0.75], 0.05)\n",
    "Q1 = quantiles[0]\n",
    "Q3 = quantiles[1]\n",
    "\n",
    "# Calculate IQR and bounds\n",
    "IQR = Q3 - Q1\n",
    "lower_bound = Q1 - 1.5 * IQR\n",
    "upper_bound = Q3 + 1.5 * IQR\n",
    "\n",
    "# Filter the DataFrame to remove outliers\n",
    "df_cleaned = df_cleaned.filter((col(\"BMI\") >= lower_bound) & (col(\"BMI\") <= upper_bound))\n",
    "\n",
    "# Show the cleaned DataFrame\n",
    "display(df_cleaned)"
   ]
  },
  {
   "cell_type": "code",
   "execution_count": 0,
   "metadata": {
    "application/vnd.databricks.v1+cell": {
     "cellMetadata": {
      "byteLimit": 2048000,
      "rowLimit": 10000
     },
     "inputWidgets": {},
     "nuid": "9f9b4104-8d48-407c-92a0-2bd39114a6f9",
     "showTitle": false,
     "title": ""
    }
   },
   "outputs": [],
   "source": [
    "df_cleaned = df_cleaned.drop('AnyHealthcare','Sex','Fruits')"
   ]
  },
  {
   "cell_type": "code",
   "execution_count": 0,
   "metadata": {
    "application/vnd.databricks.v1+cell": {
     "cellMetadata": {
      "byteLimit": 2048000,
      "rowLimit": 10000
     },
     "inputWidgets": {},
     "nuid": "f5e966de-5f35-487f-8bee-0d0216a1dd2f",
     "showTitle": false,
     "title": ""
    }
   },
   "outputs": [],
   "source": [
    "def smote(df_cleaned: DataFrame, minority_labels: list, k: int = 20, over_sampling_ratio: float = 1.0, seed: int = 42) -> DataFrame:\n",
    "    \n",
    "    label_column = 'Diabetes_012'\n",
    "\n",
    "    # Separate majority and minority classes\n",
    "    majority_df = df_cleaned.filter(col(label_column) == 0.0)\n",
    "    minority_dfs = [df_cleaned.filter(col(label_column) == label) for label in minority_labels]\n",
    "    \n",
    "    # Compute the number of synthetic samples to generate\n",
    "    majority_count = majority_df.count()\n",
    "    synthetic_count = int(majority_count * over_sampling_ratio)\n",
    "    \n",
    "    synthetic_dfs = []\n",
    "    \n",
    "    for minority_df in minority_dfs:\n",
    "        # Compute SMOTE for each minority class\n",
    "        synthetic_df = compute_smote(minority_df, k, synthetic_count, seed)\n",
    "        synthetic_dfs.append(synthetic_df)\n",
    "\n",
    "    # Union all synthetic minority class DataFrames with majority DataFrame\n",
    "    oversampled_df = majority_df\n",
    "    for synthetic_df in synthetic_dfs:\n",
    "        oversampled_df = oversampled_df.union(synthetic_df)\n",
    "    \n",
    "    \n",
    "    return oversampled_df\n",
    "\n",
    "\n",
    "def compute_smote(minority_df: DataFrame, k: int, synthetic_count: int, seed: int) -> DataFrame:\n",
    "    \n",
    "    # Collect minority samples into a list\n",
    "    minority_samples = minority_df.collect()\n",
    "    \n",
    "    # Initialize synthetic samples list\n",
    "    synthetic_samples = []\n",
    "\n",
    "    # Generate synthetic samples using SMOTE\n",
    "    np.random.seed(seed)\n",
    "    num_minority_samples = len(minority_samples)\n",
    "    \n",
    "    for i in range(synthetic_count):\n",
    "        # Randomly choose a minority sample\n",
    "        sample = minority_samples[np.random.randint(0, num_minority_samples)]\n",
    "        \n",
    "        # Find k nearest neighbors for the selected sample\n",
    "        nn_indices = np.random.choice(num_minority_samples, k, replace=True)\n",
    "        \n",
    "        # Randomly select one of the nearest neighbors\n",
    "        nn_sample = minority_samples[np.random.choice(nn_indices)]\n",
    "        \n",
    "        # Create a synthetic sample based on the nearest neighbor\n",
    "        synthetic_sample = [sample[idx] + np.random.rand() * (nn_sample[idx] - sample[idx]) for idx in range(len(sample))]\n",
    "        synthetic_samples.append(synthetic_sample)\n",
    "    \n",
    "    # Create DataFrame with synthetic samples\n",
    "    schema = minority_df.schema\n",
    "    synthetic_data = spark.createDataFrame(synthetic_samples, schema=schema)\n",
    "    return synthetic_data\n",
    "\n",
    "# Example usage\n",
    "label_column = \"Diabetes_012\"\n",
    "minority_labels = [1.0, 2.0]\n",
    "oversampled_df = smote(df_cleaned, minority_labels, k=10, over_sampling_ratio=1.0, seed=42)"
   ]
  },
  {
   "cell_type": "code",
   "execution_count": 0,
   "metadata": {
    "application/vnd.databricks.v1+cell": {
     "cellMetadata": {
      "byteLimit": 2048000,
      "rowLimit": 10000
     },
     "inputWidgets": {},
     "nuid": "cdab9cdc-a380-4cf6-91b0-61440f50732b",
     "showTitle": false,
     "title": ""
    }
   },
   "outputs": [],
   "source": [
    "class_counts = oversampled_df.groupBy(label_column).count()\n",
    "\n",
    "# Display the count of each class\n",
    "class_counts.show()\n",
    "\n",
    "# Plot the count of each class\n",
    "class_counts.toPandas().plot(kind='bar', x=label_column, y='count', title='Count (Target)')"
   ]
  },
  {
   "cell_type": "code",
   "execution_count": 0,
   "metadata": {
    "application/vnd.databricks.v1+cell": {
     "cellMetadata": {
      "byteLimit": 2048000,
      "rowLimit": 10000
     },
     "inputWidgets": {},
     "nuid": "a0be957a-10f3-4895-8cc6-50c88198e83c",
     "showTitle": false,
     "title": ""
    }
   },
   "outputs": [],
   "source": [
    "# Convert PySpark DataFrames to Pandas DataFrames\n",
    "df_original_pd = df_cleaned.toPandas()\n",
    "oversampled_pd = oversampled_df.toPandas()\n",
    "\n",
    "# Assuming feature_columns contains the relevant feature names\n",
    "feature_columns = ['Diabetes_012', 'Education']  # Replace with your feature names\n",
    "\n",
    "# Plot histograms for each feature\n",
    "for feature in feature_columns:\n",
    "    plt.figure(figsize=(10, 6))\n",
    "    sns.histplot(df_original_pd[feature], color='blue', alpha=0.5, label='Original')\n",
    "    sns.histplot(oversampled_pd[feature], color='orange', alpha=0.5, label='Oversampled')\n",
    "    plt.title(f'Distribution of {feature}')\n",
    "    plt.xlabel(feature)\n",
    "    plt.ylabel('Frequency')\n",
    "    plt.legend()\n",
    "    plt.show()"
   ]
  },
  {
   "cell_type": "code",
   "execution_count": 0,
   "metadata": {
    "application/vnd.databricks.v1+cell": {
     "cellMetadata": {
      "byteLimit": 2048000,
      "rowLimit": 10000
     },
     "inputWidgets": {},
     "nuid": "13e689b5-b288-46f7-b435-81e762ce5c0b",
     "showTitle": false,
     "title": ""
    }
   },
   "outputs": [
    {
     "output_type": "stream",
     "name": "stdout",
     "output_type": "stream",
     "text": [
      "Summary statistics for original data:\n"
     ]
    },
    {
     "output_type": "display_data",
     "data": {
      "text/html": [
       "<style scoped>\n",
       "  .table-result-container {\n",
       "    max-height: 300px;\n",
       "    overflow: auto;\n",
       "  }\n",
       "  table, th, td {\n",
       "    border: 1px solid black;\n",
       "    border-collapse: collapse;\n",
       "  }\n",
       "  th, td {\n",
       "    padding: 5px;\n",
       "  }\n",
       "  th {\n",
       "    text-align: left;\n",
       "  }\n",
       "</style><div class='table-result-container'><table class='table-result'><thead style='background-color: white'><tr><th>summary</th><th>Diabetes_012</th><th>HighBP</th><th>HighChol</th><th>CholCheck</th><th>BMI</th><th>Smoker</th><th>Stroke</th><th>HeartDiseaseorAttack</th><th>PhysActivity</th><th>Veggies</th><th>HvyAlcoholConsump</th><th>NoDocbcCost</th><th>GenHlth</th><th>MentHlth</th><th>PhysHlth</th><th>DiffWalk</th><th>Age</th><th>Education</th><th>Income</th></tr></thead><tbody><tr><td>count</td><td>219937</td><td>219937</td><td>219937</td><td>219937</td><td>219937</td><td>219937</td><td>219937</td><td>219937</td><td>219937</td><td>219937</td><td>219937</td><td>219937</td><td>219937</td><td>219937</td><td>219937</td><td>219937</td><td>219937</td><td>219937</td><td>219937</td></tr><tr><td>mean</td><td>0.30826100201421314</td><td>0.4457594674838704</td><td>0.44022606473672005</td><td>0.958860946543783</td><td>27.798246770666147</td><td>0.46691552580966367</td><td>0.04444454548347936</td><td>0.10234749041771053</td><td>0.7412349900198694</td><td>0.7965781110045149</td><td>0.06206322719687911</td><td>0.0903167725303155</td><td>2.571436365868408</td><td>3.3928943288305287</td><td>4.4967058748641655</td><td>0.1737588491249767</td><td>8.123157995244092</td><td>4.988678576137712</td><td>5.9239918703992505</td></tr><tr><td>stddev</td><td>0.7083612144318086</td><td>0.4970503877373994</td><td>0.49641534737774284</td><td>0.1986122128470222</td><td>5.055623512043926</td><td>0.49890535102866695</td><td>0.20608110286575318</td><td>0.30310542612532687</td><td>0.4379572486987893</td><td>0.4025446072663909</td><td>0.24127090106554344</td><td>0.286635703797807</td><td>1.0569969920544982</td><td>7.583081472244158</td><td>8.882261975519125</td><td>0.378902842746788</td><td>3.1059315798275775</td><td>0.9914560474845354</td><td>2.077879926464328</td></tr><tr><td>min</td><td>0.0</td><td>0.0</td><td>0.0</td><td>0.0</td><td>14.0</td><td>0.0</td><td>0.0</td><td>0.0</td><td>0.0</td><td>0.0</td><td>0.0</td><td>0.0</td><td>1.0</td><td>0.0</td><td>0.0</td><td>0.0</td><td>1.0</td><td>1.0</td><td>1.0</td></tr><tr><td>max</td><td>2.0</td><td>1.0</td><td>1.0</td><td>1.0</td><td>41.0</td><td>1.0</td><td>1.0</td><td>1.0</td><td>1.0</td><td>1.0</td><td>1.0</td><td>1.0</td><td>5.0</td><td>30.0</td><td>30.0</td><td>1.0</td><td>13.0</td><td>6.0</td><td>8.0</td></tr></tbody></table></div>"
      ]
     },
     "metadata": {
      "application/vnd.databricks.v1+output": {
       "addedWidgets": {},
       "aggData": [],
       "aggError": "",
       "aggOverflow": false,
       "aggSchema": [],
       "aggSeriesLimitReached": false,
       "aggType": "",
       "arguments": {},
       "columnCustomDisplayInfos": {},
       "data": [
        [
         "count",
         "219937",
         "219937",
         "219937",
         "219937",
         "219937",
         "219937",
         "219937",
         "219937",
         "219937",
         "219937",
         "219937",
         "219937",
         "219937",
         "219937",
         "219937",
         "219937",
         "219937",
         "219937",
         "219937"
        ],
        [
         "mean",
         "0.30826100201421314",
         "0.4457594674838704",
         "0.44022606473672005",
         "0.958860946543783",
         "27.798246770666147",
         "0.46691552580966367",
         "0.04444454548347936",
         "0.10234749041771053",
         "0.7412349900198694",
         "0.7965781110045149",
         "0.06206322719687911",
         "0.0903167725303155",
         "2.571436365868408",
         "3.3928943288305287",
         "4.4967058748641655",
         "0.1737588491249767",
         "8.123157995244092",
         "4.988678576137712",
         "5.9239918703992505"
        ],
        [
         "stddev",
         "0.7083612144318086",
         "0.4970503877373994",
         "0.49641534737774284",
         "0.1986122128470222",
         "5.055623512043926",
         "0.49890535102866695",
         "0.20608110286575318",
         "0.30310542612532687",
         "0.4379572486987893",
         "0.4025446072663909",
         "0.24127090106554344",
         "0.286635703797807",
         "1.0569969920544982",
         "7.583081472244158",
         "8.882261975519125",
         "0.378902842746788",
         "3.1059315798275775",
         "0.9914560474845354",
         "2.077879926464328"
        ],
        [
         "min",
         "0.0",
         "0.0",
         "0.0",
         "0.0",
         "14.0",
         "0.0",
         "0.0",
         "0.0",
         "0.0",
         "0.0",
         "0.0",
         "0.0",
         "1.0",
         "0.0",
         "0.0",
         "0.0",
         "1.0",
         "1.0",
         "1.0"
        ],
        [
         "max",
         "2.0",
         "1.0",
         "1.0",
         "1.0",
         "41.0",
         "1.0",
         "1.0",
         "1.0",
         "1.0",
         "1.0",
         "1.0",
         "1.0",
         "5.0",
         "30.0",
         "30.0",
         "1.0",
         "13.0",
         "6.0",
         "8.0"
        ]
       ],
       "datasetInfos": [],
       "dbfsResultPath": null,
       "isJsonSchema": true,
       "metadata": {},
       "overflow": false,
       "plotOptions": {
        "customPlotOptions": {},
        "displayType": "table",
        "pivotAggregation": null,
        "pivotColumns": null,
        "xColumns": null,
        "yColumns": null
       },
       "removedWidgets": [],
       "schema": [
        {
         "metadata": "{}",
         "name": "summary",
         "type": "\"string\""
        },
        {
         "metadata": "{}",
         "name": "Diabetes_012",
         "type": "\"string\""
        },
        {
         "metadata": "{}",
         "name": "HighBP",
         "type": "\"string\""
        },
        {
         "metadata": "{}",
         "name": "HighChol",
         "type": "\"string\""
        },
        {
         "metadata": "{}",
         "name": "CholCheck",
         "type": "\"string\""
        },
        {
         "metadata": "{}",
         "name": "BMI",
         "type": "\"string\""
        },
        {
         "metadata": "{}",
         "name": "Smoker",
         "type": "\"string\""
        },
        {
         "metadata": "{}",
         "name": "Stroke",
         "type": "\"string\""
        },
        {
         "metadata": "{}",
         "name": "HeartDiseaseorAttack",
         "type": "\"string\""
        },
        {
         "metadata": "{}",
         "name": "PhysActivity",
         "type": "\"string\""
        },
        {
         "metadata": "{}",
         "name": "Veggies",
         "type": "\"string\""
        },
        {
         "metadata": "{}",
         "name": "HvyAlcoholConsump",
         "type": "\"string\""
        },
        {
         "metadata": "{}",
         "name": "NoDocbcCost",
         "type": "\"string\""
        },
        {
         "metadata": "{}",
         "name": "GenHlth",
         "type": "\"string\""
        },
        {
         "metadata": "{}",
         "name": "MentHlth",
         "type": "\"string\""
        },
        {
         "metadata": "{}",
         "name": "PhysHlth",
         "type": "\"string\""
        },
        {
         "metadata": "{}",
         "name": "DiffWalk",
         "type": "\"string\""
        },
        {
         "metadata": "{}",
         "name": "Age",
         "type": "\"string\""
        },
        {
         "metadata": "{}",
         "name": "Education",
         "type": "\"string\""
        },
        {
         "metadata": "{}",
         "name": "Income",
         "type": "\"string\""
        }
       ],
       "type": "table"
      }
     },
     "output_type": "display_data"
    },
    {
     "output_type": "stream",
     "name": "stdout",
     "output_type": "stream",
     "text": [
      "Summary statistics for oversampled data:\n"
     ]
    },
    {
     "output_type": "display_data",
     "data": {
      "text/html": [
       "<style scoped>\n",
       "  .table-result-container {\n",
       "    max-height: 300px;\n",
       "    overflow: auto;\n",
       "  }\n",
       "  table, th, td {\n",
       "    border: 1px solid black;\n",
       "    border-collapse: collapse;\n",
       "  }\n",
       "  th, td {\n",
       "    padding: 5px;\n",
       "  }\n",
       "  th {\n",
       "    text-align: left;\n",
       "  }\n",
       "</style><div class='table-result-container'><table class='table-result'><thead style='background-color: white'><tr><th>summary</th><th>Diabetes_012</th><th>HighBP</th><th>HighChol</th><th>CholCheck</th><th>BMI</th><th>Smoker</th><th>Stroke</th><th>HeartDiseaseorAttack</th><th>PhysActivity</th><th>Veggies</th><th>HvyAlcoholConsump</th><th>NoDocbcCost</th><th>GenHlth</th><th>MentHlth</th><th>PhysHlth</th><th>DiffWalk</th><th>Age</th><th>Education</th><th>Income</th></tr></thead><tbody><tr><td>count</td><td>551607</td><td>551607</td><td>551607</td><td>551607</td><td>551607</td><td>551607</td><td>551607</td><td>551607</td><td>551607</td><td>551607</td><td>551607</td><td>551607</td><td>551607</td><td>551607</td><td>551607</td><td>551607</td><td>551607</td><td>551607</td><td>551607</td></tr><tr><td>mean</td><td>1.0</td><td>0.5868048308553839</td><td>0.5631178354005211</td><td>0.9774111652987246</td><td>29.058035207993633</td><td>0.490926957711528</td><td>0.06301948786528816</td><td>0.15096922758152506</td><td>0.6975623442639164</td><td>0.778587754005916</td><td>0.046166638320117935</td><td>0.1057537679536172</td><td>2.883225847214398</td><td>3.952132732417209</td><td>5.870002313585773</td><td>0.2504524036564994</td><td>8.849037052547216</td><td>4.857950242004374</td><td>5.558021858012516</td></tr><tr><td>stddev</td><td>0.8164973210358928</td><td>0.4420872247739078</td><td>0.44190053438957955</td><td>0.14095315779726575</td><td>4.5863475821257556</td><td>0.44088641292683406</td><td>0.2082744161893265</td><td>0.30790147415830366</td><td>0.40205650198690285</td><td>0.3641627858143935</td><td>0.19119465034479713</td><td>0.26830283547699135</td><td>0.9588972623333398</td><td>7.239423523450425</td><td>8.687846426192568</td><td>0.3756157993386641</td><td>2.559985228844453</td><td>0.9151774922485839</td><td>1.9117782770965832</td></tr><tr><td>min</td><td>0.0</td><td>0.0</td><td>0.0</td><td>0.0</td><td>14.0</td><td>0.0</td><td>0.0</td><td>0.0</td><td>0.0</td><td>0.0</td><td>0.0</td><td>0.0</td><td>1.0</td><td>0.0</td><td>0.0</td><td>0.0</td><td>1.0</td><td>1.0</td><td>1.0</td></tr><tr><td>max</td><td>2.0</td><td>1.0</td><td>1.0</td><td>1.0</td><td>41.0</td><td>1.0</td><td>1.0</td><td>1.0</td><td>1.0</td><td>1.0</td><td>1.0</td><td>1.0</td><td>5.0</td><td>30.0</td><td>30.0</td><td>1.0</td><td>13.0</td><td>6.0</td><td>8.0</td></tr></tbody></table></div>"
      ]
     },
     "metadata": {
      "application/vnd.databricks.v1+output": {
       "addedWidgets": {},
       "aggData": [],
       "aggError": "",
       "aggOverflow": false,
       "aggSchema": [],
       "aggSeriesLimitReached": false,
       "aggType": "",
       "arguments": {},
       "columnCustomDisplayInfos": {},
       "data": [
        [
         "count",
         "551607",
         "551607",
         "551607",
         "551607",
         "551607",
         "551607",
         "551607",
         "551607",
         "551607",
         "551607",
         "551607",
         "551607",
         "551607",
         "551607",
         "551607",
         "551607",
         "551607",
         "551607",
         "551607"
        ],
        [
         "mean",
         "1.0",
         "0.5868048308553839",
         "0.5631178354005211",
         "0.9774111652987246",
         "29.058035207993633",
         "0.490926957711528",
         "0.06301948786528816",
         "0.15096922758152506",
         "0.6975623442639164",
         "0.778587754005916",
         "0.046166638320117935",
         "0.1057537679536172",
         "2.883225847214398",
         "3.952132732417209",
         "5.870002313585773",
         "0.2504524036564994",
         "8.849037052547216",
         "4.857950242004374",
         "5.558021858012516"
        ],
        [
         "stddev",
         "0.8164973210358928",
         "0.4420872247739078",
         "0.44190053438957955",
         "0.14095315779726575",
         "4.5863475821257556",
         "0.44088641292683406",
         "0.2082744161893265",
         "0.30790147415830366",
         "0.40205650198690285",
         "0.3641627858143935",
         "0.19119465034479713",
         "0.26830283547699135",
         "0.9588972623333398",
         "7.239423523450425",
         "8.687846426192568",
         "0.3756157993386641",
         "2.559985228844453",
         "0.9151774922485839",
         "1.9117782770965832"
        ],
        [
         "min",
         "0.0",
         "0.0",
         "0.0",
         "0.0",
         "14.0",
         "0.0",
         "0.0",
         "0.0",
         "0.0",
         "0.0",
         "0.0",
         "0.0",
         "1.0",
         "0.0",
         "0.0",
         "0.0",
         "1.0",
         "1.0",
         "1.0"
        ],
        [
         "max",
         "2.0",
         "1.0",
         "1.0",
         "1.0",
         "41.0",
         "1.0",
         "1.0",
         "1.0",
         "1.0",
         "1.0",
         "1.0",
         "1.0",
         "5.0",
         "30.0",
         "30.0",
         "1.0",
         "13.0",
         "6.0",
         "8.0"
        ]
       ],
       "datasetInfos": [],
       "dbfsResultPath": null,
       "isJsonSchema": true,
       "metadata": {},
       "overflow": false,
       "plotOptions": {
        "customPlotOptions": {},
        "displayType": "table",
        "pivotAggregation": null,
        "pivotColumns": null,
        "xColumns": null,
        "yColumns": null
       },
       "removedWidgets": [],
       "schema": [
        {
         "metadata": "{}",
         "name": "summary",
         "type": "\"string\""
        },
        {
         "metadata": "{}",
         "name": "Diabetes_012",
         "type": "\"string\""
        },
        {
         "metadata": "{}",
         "name": "HighBP",
         "type": "\"string\""
        },
        {
         "metadata": "{}",
         "name": "HighChol",
         "type": "\"string\""
        },
        {
         "metadata": "{}",
         "name": "CholCheck",
         "type": "\"string\""
        },
        {
         "metadata": "{}",
         "name": "BMI",
         "type": "\"string\""
        },
        {
         "metadata": "{}",
         "name": "Smoker",
         "type": "\"string\""
        },
        {
         "metadata": "{}",
         "name": "Stroke",
         "type": "\"string\""
        },
        {
         "metadata": "{}",
         "name": "HeartDiseaseorAttack",
         "type": "\"string\""
        },
        {
         "metadata": "{}",
         "name": "PhysActivity",
         "type": "\"string\""
        },
        {
         "metadata": "{}",
         "name": "Veggies",
         "type": "\"string\""
        },
        {
         "metadata": "{}",
         "name": "HvyAlcoholConsump",
         "type": "\"string\""
        },
        {
         "metadata": "{}",
         "name": "NoDocbcCost",
         "type": "\"string\""
        },
        {
         "metadata": "{}",
         "name": "GenHlth",
         "type": "\"string\""
        },
        {
         "metadata": "{}",
         "name": "MentHlth",
         "type": "\"string\""
        },
        {
         "metadata": "{}",
         "name": "PhysHlth",
         "type": "\"string\""
        },
        {
         "metadata": "{}",
         "name": "DiffWalk",
         "type": "\"string\""
        },
        {
         "metadata": "{}",
         "name": "Age",
         "type": "\"string\""
        },
        {
         "metadata": "{}",
         "name": "Education",
         "type": "\"string\""
        },
        {
         "metadata": "{}",
         "name": "Income",
         "type": "\"string\""
        }
       ],
       "type": "table"
      }
     },
     "output_type": "display_data"
    }
   ],
   "source": [
    "# Assuming df_original and smote_df are the original and oversampled PySpark DataFrames\n",
    "\n",
    "# Summary statistics for the original data\n",
    "original_summary = df_cleaned.describe()\n",
    "\n",
    "# Summary statistics for the oversampled data\n",
    "oversampled_summary = oversampled_df.describe()\n",
    "\n",
    "# Display the summary statistics\n",
    "print(\"Summary statistics for original data:\")\n",
    "display(original_summary)\n",
    "\n",
    "print(\"Summary statistics for oversampled data:\")\n",
    "display(oversampled_summary)\n"
   ]
  },
  {
   "cell_type": "code",
   "execution_count": 0,
   "metadata": {
    "application/vnd.databricks.v1+cell": {
     "cellMetadata": {
      "byteLimit": 2048000,
      "rowLimit": 10000
     },
     "inputWidgets": {},
     "nuid": "5b0db291-ba6d-4533-b7c0-05d3b1f1289d",
     "showTitle": false,
     "title": ""
    }
   },
   "outputs": [],
   "source": [
    "# Extract Diabetes_012 column from original and SMOTE datasets\n",
    "original_diabetes = df_cleaned.select(\"Education\").rdd.flatMap(lambda x: x).collect()\n",
    "smote_diabetes = oversampled_df.select(\"Education\").rdd.flatMap(lambda x: x).collect()\n",
    "\n",
    "# Plot PDFs\n",
    "plt.figure(figsize=(10, 6))\n",
    "sns.histplot(original_diabetes, kde=True, color='blue', label='Original', stat='density')\n",
    "sns.histplot(smote_diabetes, kde=True, color='orange', label='SMOTE', stat='density')\n",
    "plt.title('PDF of Diabetes_012')\n",
    "plt.xlabel('Diabetes_012')\n",
    "plt.ylabel('Density')\n",
    "plt.legend()\n",
    "plt.show()"
   ]
  },
  {
   "cell_type": "code",
   "execution_count": 0,
   "metadata": {
    "application/vnd.databricks.v1+cell": {
     "cellMetadata": {
      "byteLimit": 2048000,
      "rowLimit": 10000
     },
     "inputWidgets": {},
     "nuid": "3c26fa1a-a574-4200-9aa7-95e9de9a5897",
     "showTitle": false,
     "title": ""
    }
   },
   "outputs": [
    {
     "output_type": "stream",
     "name": "stdout",
     "output_type": "stream",
     "text": [
      "+--------------------+------------+\n|            features|Diabetes_012|\n+--------------------+------------+\n|(18,[1,2,3,7,8,11...|         0.0|\n|(18,[1,2,3,8,11,1...|         0.0|\n|(18,[2,3,4,8,11,1...|         0.0|\n|(18,[1,3,7,11,15,...|         0.0|\n|[1.0,1.0,1.0,24.0...|         0.0|\n+--------------------+------------+\nonly showing top 5 rows\n\n"
     ]
    }
   ],
   "source": [
    "# Define feature columns\n",
    "feature_columns = oversampled_df.columns[1:]  # Exclude the first column\n",
    "label_column = \"Diabetes_012\"\n",
    "\n",
    "# VectorAssembler to create feature vector\n",
    "vector_assembler = VectorAssembler(inputCols=feature_columns, outputCol=\"features\")\n",
    "output = vector_assembler.transform(oversampled_df)\n",
    "output.select(\"features\",\"Diabetes_012\").show(5)"
   ]
  },
  {
   "cell_type": "code",
   "execution_count": 0,
   "metadata": {
    "application/vnd.databricks.v1+cell": {
     "cellMetadata": {
      "byteLimit": 2048000,
      "rowLimit": 10000
     },
     "inputWidgets": {},
     "nuid": "e60d1132-34ce-41ca-a557-1878ab95a3c2",
     "showTitle": false,
     "title": ""
    }
   },
   "outputs": [
    {
     "output_type": "stream",
     "name": "stdout",
     "output_type": "stream",
     "text": [
      "+--------------------+------------+\n|     scaled_features|Diabetes_012|\n+--------------------+------------+\n|(18,[1,2,3,7,8,11...|         0.0|\n|(18,[1,2,3,8,11,1...|         0.0|\n|(18,[2,3,4,8,11,1...|         0.0|\n|(18,[1,3,7,11,15,...|         0.0|\n|[2.26199705388777...|         0.0|\n+--------------------+------------+\nonly showing top 5 rows\n\n"
     ]
    }
   ],
   "source": [
    "scaler = StandardScaler(inputCol=\"features\", outputCol=\"scaled_features\")\n",
    "# Fit StandardScaler to data and transform\n",
    "scaler_model = scaler.fit(output)\n",
    "scaled_output = scaler_model.transform(output)\n",
    "# Show the features and label columns\n",
    "scaled_output.select(\"scaled_features\", \"Diabetes_012\").show(5)"
   ]
  },
  {
   "cell_type": "code",
   "execution_count": 0,
   "metadata": {
    "application/vnd.databricks.v1+cell": {
     "cellMetadata": {
      "byteLimit": 2048000,
      "rowLimit": 10000
     },
     "inputWidgets": {},
     "nuid": "ad3acd08-61dc-4c33-b27a-a570938bdf94",
     "showTitle": false,
     "title": ""
    }
   },
   "outputs": [
    {
     "output_type": "stream",
     "name": "stdout",
     "output_type": "stream",
     "text": [
      "+------------+-----+\n|Diabetes_012|count|\n+------------+-----+\n|         0.0|36965|\n|         1.0|36724|\n|         2.0|36901|\n+------------+-----+\n\n"
     ]
    }
   ],
   "source": [
    "train, test = scaled_output.randomSplit([0.8, 0.2], seed=17)\n",
    "test.groupBy('Diabetes_012').count().show()"
   ]
  },
  {
   "cell_type": "code",
   "execution_count": 0,
   "metadata": {
    "application/vnd.databricks.v1+cell": {
     "cellMetadata": {
      "byteLimit": 2048000,
      "rowLimit": 10000
     },
     "inputWidgets": {},
     "nuid": "a123f726-9f81-4252-8b85-3f855ac6af97",
     "showTitle": false,
     "title": ""
    }
   },
   "outputs": [
    {
     "output_type": "stream",
     "name": "stdout",
     "output_type": "stream",
     "text": [
      "+------------+------+\n|Diabetes_012| count|\n+------------+------+\n|         0.0|146904|\n|         1.0|147145|\n|         2.0|146968|\n+------------+------+\n\n"
     ]
    }
   ],
   "source": [
    "train.groupBy('Diabetes_012').count().show()"
   ]
  },
  {
   "cell_type": "code",
   "execution_count": 0,
   "metadata": {
    "application/vnd.databricks.v1+cell": {
     "cellMetadata": {
      "byteLimit": 2048000,
      "rowLimit": 10000
     },
     "inputWidgets": {},
     "nuid": "6cad18ea-67db-4a2f-9fa8-9b8c819c8c1e",
     "showTitle": false,
     "title": ""
    }
   },
   "outputs": [
    {
     "output_type": "stream",
     "name": "stdout",
     "output_type": "stream",
     "text": [
      "+------------+------+--------+---------+----+------+------+--------------------+------------+-------+-----------------+-----------+-------+--------+--------+--------+----+---------+------+--------------------+--------------------+\n|Diabetes_012|HighBP|HighChol|CholCheck| BMI|Smoker|Stroke|HeartDiseaseorAttack|PhysActivity|Veggies|HvyAlcoholConsump|NoDocbcCost|GenHlth|MentHlth|PhysHlth|DiffWalk| Age|Education|Income|            features|     scaled_features|\n+------------+------+--------+---------+----+------+------+--------------------+------------+-------+-----------------+-----------+-------+--------+--------+--------+----+---------+------+--------------------+--------------------+\n|         0.0|   0.0|     0.0|      0.0|16.0|   1.0|   0.0|                 0.0|         0.0|    1.0|              0.0|        1.0|    3.0|     0.0|     7.0|     0.0| 4.0|      5.0|   2.0|(18,[3,4,8,10,11,...|(18,[3,4,8,10,11,...|\n|         0.0|   0.0|     0.0|      0.0|17.0|   0.0|   0.0|                 0.0|         0.0|    0.0|              0.0|        0.0|    5.0|     0.0|    30.0|     1.0|10.0|      5.0|   5.0|(18,[3,11,13,14,1...|(18,[3,11,13,14,1...|\n|         0.0|   0.0|     0.0|      0.0|17.0|   1.0|   0.0|                 0.0|         1.0|    0.0|              0.0|        0.0|    3.0|    15.0|     4.0|     0.0| 6.0|      6.0|   3.0|(18,[3,4,7,11,12,...|(18,[3,4,7,11,12,...|\n|         0.0|   0.0|     0.0|      0.0|18.0|   0.0|   0.0|                 0.0|         1.0|    1.0|              0.0|        0.0|    1.0|     0.0|     0.0|     0.0| 2.0|      6.0|   8.0|(18,[3,7,8,11,15,...|(18,[3,7,8,11,15,...|\n|         0.0|   0.0|     0.0|      0.0|18.0|   0.0|   0.0|                 0.0|         1.0|    1.0|              0.0|        0.0|    1.0|     0.0|     0.0|     0.0| 7.0|      5.0|   2.0|(18,[3,7,8,11,15,...|(18,[3,7,8,11,15,...|\n|         0.0|   0.0|     0.0|      0.0|18.0|   0.0|   1.0|                 0.0|         1.0|    1.0|              0.0|        1.0|    5.0|     0.0|    30.0|     0.0| 7.0|      6.0|   1.0|(18,[3,5,7,8,10,1...|(18,[3,5,7,8,10,1...|\n|         0.0|   0.0|     0.0|      0.0|18.0|   1.0|   0.0|                 0.0|         0.0|    1.0|              0.0|        0.0|    3.0|    30.0|     0.0|     0.0| 3.0|      4.0|   6.0|(18,[3,4,8,11,12,...|(18,[3,4,8,11,12,...|\n|         0.0|   0.0|     0.0|      0.0|18.0|   1.0|   0.0|                 0.0|         0.0|    1.0|              0.0|        1.0|    3.0|     5.0|     0.0|     1.0| 8.0|      4.0|   6.0|(18,[3,4,8,10,11,...|(18,[3,4,8,10,11,...|\n|         0.0|   0.0|     0.0|      0.0|18.0|   1.0|   0.0|                 0.0|         1.0|    0.0|              0.0|        0.0|    3.0|    30.0|     0.0|     0.0| 8.0|      4.0|   1.0|(18,[3,4,7,11,12,...|(18,[3,4,7,11,12,...|\n|         0.0|   0.0|     0.0|      0.0|18.0|   1.0|   0.0|                 0.0|         1.0|    1.0|              0.0|        0.0|    2.0|    10.0|     0.0|     0.0| 3.0|      5.0|   8.0|(18,[3,4,7,8,11,1...|(18,[3,4,7,8,11,1...|\n|         0.0|   0.0|     0.0|      0.0|18.0|   1.0|   0.0|                 0.0|         1.0|    1.0|              0.0|        0.0|    2.0|    30.0|    11.0|     1.0| 2.0|      4.0|   5.0|[0.0,0.0,0.0,18.0...|[0.0,0.0,0.0,3.92...|\n|         0.0|   0.0|     0.0|      0.0|18.0|   1.0|   0.0|                 0.0|         1.0|    1.0|              0.0|        0.0|    3.0|    14.0|     5.0|     0.0| 7.0|      5.0|   6.0|(18,[3,4,7,8,11,1...|(18,[3,4,7,8,11,1...|\n|         0.0|   0.0|     0.0|      0.0|18.0|   1.0|   0.0|                 1.0|         1.0|    1.0|              0.0|        0.0|    3.0|     1.0|     2.0|     0.0| 9.0|      6.0|   7.0|[0.0,0.0,0.0,18.0...|[0.0,0.0,0.0,3.92...|\n|         0.0|   0.0|     0.0|      0.0|19.0|   0.0|   0.0|                 0.0|         1.0|    1.0|              0.0|        0.0|    1.0|     0.0|     0.0|     0.0| 7.0|      6.0|   8.0|(18,[3,7,8,11,15,...|(18,[3,7,8,11,15,...|\n|         0.0|   0.0|     0.0|      0.0|19.0|   0.0|   0.0|                 0.0|         1.0|    1.0|              0.0|        0.0|    1.0|     1.0|     0.0|     0.0|10.0|      6.0|   5.0|(18,[3,7,8,11,12,...|(18,[3,7,8,11,12,...|\n|         0.0|   0.0|     0.0|      0.0|19.0|   0.0|   0.0|                 0.0|         1.0|    1.0|              0.0|        0.0|    1.0|     2.0|     0.0|     0.0| 6.0|      5.0|   7.0|(18,[3,7,8,11,12,...|(18,[3,7,8,11,12,...|\n|         0.0|   0.0|     0.0|      0.0|19.0|   0.0|   0.0|                 0.0|         1.0|    1.0|              0.0|        0.0|    3.0|     0.0|     0.0|     0.0| 1.0|      5.0|   1.0|(18,[3,7,8,11,15,...|(18,[3,7,8,11,15,...|\n|         0.0|   0.0|     0.0|      0.0|19.0|   1.0|   0.0|                 0.0|         1.0|    0.0|              0.0|        0.0|    1.0|     0.0|     1.0|     0.0| 6.0|      6.0|   8.0|(18,[3,4,7,11,13,...|(18,[3,4,7,11,13,...|\n|         0.0|   0.0|     0.0|      0.0|19.0|   1.0|   0.0|                 0.0|         1.0|    0.0|              0.0|        0.0|    2.0|     2.0|     0.0|     0.0| 5.0|      4.0|   4.0|(18,[3,4,7,11,12,...|(18,[3,4,7,11,12,...|\n|         0.0|   0.0|     0.0|      0.0|19.0|   1.0|   0.0|                 0.0|         1.0|    1.0|              0.0|        0.0|    1.0|     0.0|     0.0|     0.0| 9.0|      5.0|   8.0|(18,[3,4,7,8,11,1...|(18,[3,4,7,8,11,1...|\n+------------+------+--------+---------+----+------+------+--------------------+------------+-------+-----------------+-----------+-------+--------+--------+--------+----+---------+------+--------------------+--------------------+\nonly showing top 20 rows\n\n"
     ]
    }
   ],
   "source": [
    "train.show()"
   ]
  },
  {
   "cell_type": "code",
   "execution_count": 0,
   "metadata": {
    "application/vnd.databricks.v1+cell": {
     "cellMetadata": {
      "byteLimit": 2048000,
      "rowLimit": 10000
     },
     "inputWidgets": {},
     "nuid": "1fa8950e-9560-4f8c-a28b-8d3f1788086a",
     "showTitle": false,
     "title": ""
    }
   },
   "outputs": [
    {
     "output_type": "stream",
     "name": "stdout",
     "output_type": "stream",
     "text": [
      "+------------+------+--------+---------+----+------+------+--------------------+------------+-------+-----------------+-----------+-------+--------+--------+--------+----+---------+------+--------------------+--------------------+\n|Diabetes_012|HighBP|HighChol|CholCheck| BMI|Smoker|Stroke|HeartDiseaseorAttack|PhysActivity|Veggies|HvyAlcoholConsump|NoDocbcCost|GenHlth|MentHlth|PhysHlth|DiffWalk| Age|Education|Income|            features|     scaled_features|\n+------------+------+--------+---------+----+------+------+--------------------+------------+-------+-----------------+-----------+-------+--------+--------+--------+----+---------+------+--------------------+--------------------+\n|         0.0|   0.0|     0.0|      0.0|16.0|   1.0|   0.0|                 0.0|         0.0|    1.0|              0.0|        1.0|    3.0|     0.0|     7.0|     0.0| 4.0|      5.0|   2.0|(18,[3,4,8,10,11,...|(18,[3,4,8,10,11,...|\n|         0.0|   0.0|     0.0|      0.0|17.0|   0.0|   0.0|                 0.0|         0.0|    0.0|              0.0|        0.0|    5.0|     0.0|    30.0|     1.0|10.0|      5.0|   5.0|(18,[3,11,13,14,1...|(18,[3,11,13,14,1...|\n|         0.0|   0.0|     0.0|      0.0|17.0|   1.0|   0.0|                 0.0|         1.0|    0.0|              0.0|        0.0|    3.0|    15.0|     4.0|     0.0| 6.0|      6.0|   3.0|(18,[3,4,7,11,12,...|(18,[3,4,7,11,12,...|\n|         0.0|   0.0|     0.0|      0.0|18.0|   0.0|   0.0|                 0.0|         1.0|    1.0|              0.0|        0.0|    1.0|     0.0|     0.0|     0.0| 2.0|      6.0|   8.0|(18,[3,7,8,11,15,...|(18,[3,7,8,11,15,...|\n|         0.0|   0.0|     0.0|      0.0|18.0|   0.0|   0.0|                 0.0|         1.0|    1.0|              0.0|        0.0|    1.0|     0.0|     0.0|     0.0| 7.0|      5.0|   2.0|(18,[3,7,8,11,15,...|(18,[3,7,8,11,15,...|\n|         0.0|   0.0|     0.0|      0.0|18.0|   0.0|   1.0|                 0.0|         1.0|    1.0|              0.0|        1.0|    5.0|     0.0|    30.0|     0.0| 7.0|      6.0|   1.0|(18,[3,5,7,8,10,1...|(18,[3,5,7,8,10,1...|\n|         0.0|   0.0|     0.0|      0.0|18.0|   1.0|   0.0|                 0.0|         0.0|    1.0|              0.0|        0.0|    3.0|    30.0|     0.0|     0.0| 3.0|      4.0|   6.0|(18,[3,4,8,11,12,...|(18,[3,4,8,11,12,...|\n|         0.0|   0.0|     0.0|      0.0|18.0|   1.0|   0.0|                 0.0|         0.0|    1.0|              0.0|        1.0|    3.0|     5.0|     0.0|     1.0| 8.0|      4.0|   6.0|(18,[3,4,8,10,11,...|(18,[3,4,8,10,11,...|\n|         0.0|   0.0|     0.0|      0.0|18.0|   1.0|   0.0|                 0.0|         1.0|    0.0|              0.0|        0.0|    3.0|    30.0|     0.0|     0.0| 8.0|      4.0|   1.0|(18,[3,4,7,11,12,...|(18,[3,4,7,11,12,...|\n|         0.0|   0.0|     0.0|      0.0|18.0|   1.0|   0.0|                 0.0|         1.0|    1.0|              0.0|        0.0|    2.0|    10.0|     0.0|     0.0| 3.0|      5.0|   8.0|(18,[3,4,7,8,11,1...|(18,[3,4,7,8,11,1...|\n|         0.0|   0.0|     0.0|      0.0|18.0|   1.0|   0.0|                 0.0|         1.0|    1.0|              0.0|        0.0|    2.0|    30.0|    11.0|     1.0| 2.0|      4.0|   5.0|[0.0,0.0,0.0,18.0...|[0.0,0.0,0.0,3.92...|\n|         0.0|   0.0|     0.0|      0.0|18.0|   1.0|   0.0|                 0.0|         1.0|    1.0|              0.0|        0.0|    3.0|    14.0|     5.0|     0.0| 7.0|      5.0|   6.0|(18,[3,4,7,8,11,1...|(18,[3,4,7,8,11,1...|\n|         0.0|   0.0|     0.0|      0.0|18.0|   1.0|   0.0|                 1.0|         1.0|    1.0|              0.0|        0.0|    3.0|     1.0|     2.0|     0.0| 9.0|      6.0|   7.0|[0.0,0.0,0.0,18.0...|[0.0,0.0,0.0,3.92...|\n|         0.0|   0.0|     0.0|      0.0|19.0|   0.0|   0.0|                 0.0|         1.0|    1.0|              0.0|        0.0|    1.0|     0.0|     0.0|     0.0| 7.0|      6.0|   8.0|(18,[3,7,8,11,15,...|(18,[3,7,8,11,15,...|\n|         0.0|   0.0|     0.0|      0.0|19.0|   0.0|   0.0|                 0.0|         1.0|    1.0|              0.0|        0.0|    1.0|     1.0|     0.0|     0.0|10.0|      6.0|   5.0|(18,[3,7,8,11,12,...|(18,[3,7,8,11,12,...|\n|         0.0|   0.0|     0.0|      0.0|19.0|   0.0|   0.0|                 0.0|         1.0|    1.0|              0.0|        0.0|    1.0|     2.0|     0.0|     0.0| 6.0|      5.0|   7.0|(18,[3,7,8,11,12,...|(18,[3,7,8,11,12,...|\n|         0.0|   0.0|     0.0|      0.0|19.0|   0.0|   0.0|                 0.0|         1.0|    1.0|              0.0|        0.0|    3.0|     0.0|     0.0|     0.0| 1.0|      5.0|   1.0|(18,[3,7,8,11,15,...|(18,[3,7,8,11,15,...|\n|         0.0|   0.0|     0.0|      0.0|19.0|   1.0|   0.0|                 0.0|         1.0|    0.0|              0.0|        0.0|    1.0|     0.0|     1.0|     0.0| 6.0|      6.0|   8.0|(18,[3,4,7,11,13,...|(18,[3,4,7,11,13,...|\n|         0.0|   0.0|     0.0|      0.0|19.0|   1.0|   0.0|                 0.0|         1.0|    0.0|              0.0|        0.0|    2.0|     2.0|     0.0|     0.0| 5.0|      4.0|   4.0|(18,[3,4,7,11,12,...|(18,[3,4,7,11,12,...|\n|         0.0|   0.0|     0.0|      0.0|19.0|   1.0|   0.0|                 0.0|         1.0|    1.0|              0.0|        0.0|    1.0|     0.0|     0.0|     0.0| 9.0|      5.0|   8.0|(18,[3,4,7,8,11,1...|(18,[3,4,7,8,11,1...|\n+------------+------+--------+---------+----+------+------+--------------------+------------+-------+-----------------+-----------+-------+--------+--------+--------+----+---------+------+--------------------+--------------------+\nonly showing top 20 rows\n\n"
     ]
    }
   ],
   "source": [
    "train.show()"
   ]
  },
  {
   "cell_type": "code",
   "execution_count": 0,
   "metadata": {
    "application/vnd.databricks.v1+cell": {
     "cellMetadata": {
      "byteLimit": 2048000,
      "rowLimit": 10000
     },
     "inputWidgets": {},
     "nuid": "968cd02c-1f1b-41e4-843d-5a1cd69d388f",
     "showTitle": false,
     "title": ""
    }
   },
   "outputs": [
    {
     "output_type": "stream",
     "name": "stdout",
     "output_type": "stream",
     "text": [
      "Out[35]: 441017"
     ]
    }
   ],
   "source": [
    "train.count()"
   ]
  },
  {
   "cell_type": "code",
   "execution_count": 0,
   "metadata": {
    "application/vnd.databricks.v1+cell": {
     "cellMetadata": {
      "byteLimit": 2048000,
      "rowLimit": 10000
     },
     "inputWidgets": {},
     "nuid": "bbbcf7ad-48f0-459b-8ce2-d7699229784f",
     "showTitle": false,
     "title": ""
    }
   },
   "outputs": [
    {
     "output_type": "stream",
     "name": "stdout",
     "output_type": "stream",
     "text": [
      "+------------+------+--------+---------+----+------+------+--------------------+------------+-------+-----------------+-----------+-------+--------+--------+--------+----+---------+------+--------------------+--------------------+\n|Diabetes_012|HighBP|HighChol|CholCheck| BMI|Smoker|Stroke|HeartDiseaseorAttack|PhysActivity|Veggies|HvyAlcoholConsump|NoDocbcCost|GenHlth|MentHlth|PhysHlth|DiffWalk| Age|Education|Income|            features|     scaled_features|\n+------------+------+--------+---------+----+------+------+--------------------+------------+-------+-----------------+-----------+-------+--------+--------+--------+----+---------+------+--------------------+--------------------+\n|         0.0|   0.0|     0.0|      0.0|14.0|   1.0|   0.0|                 0.0|         1.0|    1.0|              0.0|        0.0|    3.0|     4.0|     4.0|     0.0|11.0|      6.0|   8.0|(18,[3,4,7,8,11,1...|(18,[3,4,7,8,11,1...|\n|         0.0|   0.0|     0.0|      0.0|18.0|   0.0|   0.0|                 0.0|         1.0|    1.0|              0.0|        0.0|    3.0|     0.0|     7.0|     0.0| 8.0|      5.0|   4.0|(18,[3,7,8,11,13,...|(18,[3,7,8,11,13,...|\n|         0.0|   0.0|     0.0|      0.0|18.0|   1.0|   0.0|                 0.0|         1.0|    1.0|              0.0|        0.0|    1.0|     0.0|     0.0|     0.0| 9.0|      4.0|   6.0|(18,[3,4,7,8,11,1...|(18,[3,4,7,8,11,1...|\n|         0.0|   0.0|     0.0|      0.0|19.0|   0.0|   0.0|                 0.0|         1.0|    1.0|              0.0|        0.0|    3.0|    15.0|     3.0|     0.0| 9.0|      6.0|   6.0|(18,[3,7,8,11,12,...|(18,[3,7,8,11,12,...|\n|         0.0|   0.0|     0.0|      0.0|19.0|   0.0|   0.0|                 0.0|         1.0|    1.0|              0.0|        0.0|    4.0|     0.0|     2.0|     0.0| 2.0|      5.0|   4.0|(18,[3,7,8,11,13,...|(18,[3,7,8,11,13,...|\n|         0.0|   0.0|     0.0|      0.0|19.0|   1.0|   0.0|                 0.0|         1.0|    1.0|              0.0|        0.0|    2.0|    30.0|     0.0|     0.0| 2.0|      5.0|   8.0|(18,[3,4,7,8,11,1...|(18,[3,4,7,8,11,1...|\n|         0.0|   0.0|     0.0|      0.0|20.0|   0.0|   0.0|                 0.0|         1.0|    1.0|              0.0|        0.0|    2.0|     2.0|     0.0|     0.0| 7.0|      6.0|   7.0|(18,[3,7,8,11,12,...|(18,[3,7,8,11,12,...|\n|         0.0|   0.0|     0.0|      0.0|20.0|   0.0|   0.0|                 0.0|         1.0|    1.0|              0.0|        0.0|    2.0|     5.0|     2.0|     0.0| 2.0|      6.0|   7.0|(18,[3,7,8,11,12,...|(18,[3,7,8,11,12,...|\n|         0.0|   0.0|     0.0|      0.0|20.0|   0.0|   0.0|                 0.0|         1.0|    1.0|              0.0|        1.0|    2.0|     2.0|     0.0|     0.0| 1.0|      6.0|   7.0|(18,[3,7,8,10,11,...|(18,[3,7,8,10,11,...|\n|         0.0|   0.0|     0.0|      0.0|20.0|   0.0|   0.0|                 0.0|         1.0|    1.0|              1.0|        1.0|    2.0|     3.0|     0.0|     0.0| 3.0|      6.0|   7.0|(18,[3,7,8,9,10,1...|(18,[3,7,8,9,10,1...|\n|         0.0|   0.0|     0.0|      0.0|20.0|   1.0|   0.0|                 0.0|         0.0|    0.0|              1.0|        0.0|    3.0|     0.0|     0.0|     0.0| 9.0|      6.0|   8.0|(18,[3,4,9,11,15,...|(18,[3,4,9,11,15,...|\n|         0.0|   0.0|     0.0|      0.0|20.0|   1.0|   0.0|                 0.0|         1.0|    0.0|              0.0|        0.0|    4.0|     0.0|     0.0|     0.0| 8.0|      4.0|   7.0|(18,[3,4,7,11,15,...|(18,[3,4,7,11,15,...|\n|         0.0|   0.0|     0.0|      0.0|20.0|   1.0|   0.0|                 0.0|         1.0|    0.0|              0.0|        1.0|    3.0|    28.0|     0.0|     0.0| 6.0|      5.0|   4.0|(18,[3,4,7,10,11,...|(18,[3,4,7,10,11,...|\n|         0.0|   0.0|     0.0|      0.0|20.0|   1.0|   0.0|                 0.0|         1.0|    1.0|              0.0|        0.0|    1.0|     0.0|     0.0|     0.0| 6.0|      6.0|   8.0|(18,[3,4,7,8,11,1...|(18,[3,4,7,8,11,1...|\n|         0.0|   0.0|     0.0|      0.0|20.0|   1.0|   0.0|                 0.0|         1.0|    1.0|              0.0|        0.0|    1.0|     0.0|     0.0|     0.0| 9.0|      5.0|   1.0|(18,[3,4,7,8,11,1...|(18,[3,4,7,8,11,1...|\n|         0.0|   0.0|     0.0|      0.0|21.0|   0.0|   0.0|                 0.0|         0.0|    1.0|              0.0|        0.0|    1.0|     0.0|     0.0|     0.0|10.0|      5.0|   8.0|(18,[3,8,11,15,16...|(18,[3,8,11,15,16...|\n|         0.0|   0.0|     0.0|      0.0|21.0|   0.0|   0.0|                 0.0|         1.0|    0.0|              0.0|        0.0|    1.0|     0.0|     0.0|     0.0| 8.0|      6.0|   2.0|(18,[3,7,11,15,16...|(18,[3,7,11,15,16...|\n|         0.0|   0.0|     0.0|      0.0|21.0|   0.0|   0.0|                 0.0|         1.0|    1.0|              0.0|        0.0|    1.0|     0.0|     0.0|     0.0| 3.0|      6.0|   3.0|(18,[3,7,8,11,15,...|(18,[3,7,8,11,15,...|\n|         0.0|   0.0|     0.0|      0.0|21.0|   0.0|   0.0|                 0.0|         1.0|    1.0|              0.0|        0.0|    2.0|     0.0|     2.0|     0.0| 6.0|      4.0|   6.0|(18,[3,7,8,11,13,...|(18,[3,7,8,11,13,...|\n|         0.0|   0.0|     0.0|      0.0|21.0|   0.0|   0.0|                 0.0|         1.0|    1.0|              0.0|        0.0|    2.0|     1.0|     2.0|     0.0| 2.0|      6.0|   5.0|(18,[3,7,8,11,12,...|(18,[3,7,8,11,12,...|\n+------------+------+--------+---------+----+------+------+--------------------+------------+-------+-----------------+-----------+-------+--------+--------+--------+----+---------+------+--------------------+--------------------+\nonly showing top 20 rows\n\n"
     ]
    }
   ],
   "source": [
    "test.show()"
   ]
  },
  {
   "cell_type": "code",
   "execution_count": 0,
   "metadata": {
    "application/vnd.databricks.v1+cell": {
     "cellMetadata": {
      "byteLimit": 2048000,
      "rowLimit": 10000
     },
     "inputWidgets": {},
     "nuid": "a64603d9-4f3a-4f24-af46-a03c3f3bd4fa",
     "showTitle": false,
     "title": ""
    }
   },
   "outputs": [
    {
     "output_type": "stream",
     "name": "stdout",
     "output_type": "stream",
     "text": [
      "Out[37]: 110590"
     ]
    }
   ],
   "source": [
    "test.count()"
   ]
  },
  {
   "cell_type": "code",
   "execution_count": 0,
   "metadata": {
    "application/vnd.databricks.v1+cell": {
     "cellMetadata": {
      "byteLimit": 2048000,
      "rowLimit": 10000
     },
     "inputWidgets": {},
     "nuid": "61348432-a144-4197-888d-88f6dbf4e739",
     "showTitle": false,
     "title": ""
    }
   },
   "outputs": [],
   "source": [
    "dt_classifier = DecisionTreeClassifier(featuresCol=\"features\", labelCol=\"Diabetes_012\", seed=42, maxDepth = 10)\n",
    "model = dt_classifier.fit(train)\n",
    "predictions_dt = model.transform(test)\n",
    "# display(predictions)"
   ]
  },
  {
   "cell_type": "code",
   "execution_count": 0,
   "metadata": {
    "application/vnd.databricks.v1+cell": {
     "cellMetadata": {
      "byteLimit": 2048000,
      "rowLimit": 10000
     },
     "inputWidgets": {},
     "nuid": "b9e8ed0c-1980-4cf4-8fb9-9f1077c3db2b",
     "showTitle": false,
     "title": ""
    }
   },
   "outputs": [
    {
     "output_type": "stream",
     "name": "stdout",
     "output_type": "stream",
     "text": [
      "Accuracy:  0.7132832986707659\n"
     ]
    }
   ],
   "source": [
    "evaluator = MulticlassClassificationEvaluator()\n",
    "evaluator.setLabelCol(\"Diabetes_012\")\n",
    "evaluator.setPredictionCol(\"prediction\")\n",
    "print(\"Accuracy: \", evaluator.evaluate(predictions_dt, {evaluator.metricName: \"accuracy\"}))"
   ]
  },
  {
   "cell_type": "code",
   "execution_count": 0,
   "metadata": {
    "application/vnd.databricks.v1+cell": {
     "cellMetadata": {
      "byteLimit": 2048000,
      "rowLimit": 10000
     },
     "inputWidgets": {},
     "nuid": "a26fd0c8-a8bc-43fd-b529-1229217b3467",
     "showTitle": false,
     "title": ""
    }
   },
   "outputs": [],
   "source": [
    "rf_classifier = RandomForestClassifier(featuresCol=\"features\", labelCol=\"Diabetes_012\",numTrees=100, seed=42, maxDepth = 10)\n",
    "model = rf_classifier.fit(train)\n",
    "predictions_rf = model.transform(test)\n",
    "# display(predictions)"
   ]
  },
  {
   "cell_type": "code",
   "execution_count": 0,
   "metadata": {
    "application/vnd.databricks.v1+cell": {
     "cellMetadata": {
      "byteLimit": 2048000,
      "rowLimit": 10000
     },
     "inputWidgets": {},
     "nuid": "136d28d8-df2e-4478-bddb-d3f896646d6c",
     "showTitle": false,
     "title": ""
    }
   },
   "outputs": [
    {
     "output_type": "stream",
     "name": "stdout",
     "output_type": "stream",
     "text": [
      "Accuracy:  0.7335382946016819\n"
     ]
    }
   ],
   "source": [
    "evaluator = MulticlassClassificationEvaluator()\n",
    "evaluator.setLabelCol(\"Diabetes_012\")\n",
    "evaluator.setPredictionCol(\"prediction\")\n",
    "print(\"Accuracy: \", evaluator.evaluate(predictions_rf, {evaluator.metricName: \"accuracy\"}))"
   ]
  },
  {
   "cell_type": "code",
   "execution_count": 0,
   "metadata": {
    "application/vnd.databricks.v1+cell": {
     "cellMetadata": {
      "byteLimit": 2048000,
      "rowLimit": 10000
     },
     "inputWidgets": {},
     "nuid": "572f12e2-4c36-4fc9-882c-735da4ea591d",
     "showTitle": false,
     "title": ""
    }
   },
   "outputs": [
    {
     "output_type": "stream",
     "name": "stderr",
     "output_type": "stream",
     "text": [
      "/databricks/spark/python/pyspark/sql/context.py:165: FutureWarning: Deprecated in 3.0.0. Use SparkSession.builder.getOrCreate() instead.\n  warnings.warn(\n"
     ]
    },
    {
     "output_type": "stream",
     "name": "stdout",
     "output_type": "stream",
     "text": [
      "Class 0.0: Precision = 0.9805, Recall = 0.9529\nClass 1.0: Precision = 0.5526, Recall = 0.6372\nClass 2.0: Precision = 0.6662, Recall = 0.6040\nDenseMatrix([[36244.,  1032.,   761.],\n             [    0., 20293., 11555.],\n             [  721., 15399., 24585.]])\n[0.0, 1.0, 2.0]\n[(2.0, 0.0), (0.0, 0.0), (1.0, 0.0), (1.0, 1.0), (1.0, 2.0), (0.0, 2.0), (2.0, 2.0), (2.0, 1.0)]\nPrecision:  0.7316203686590281\nRecall  0.733538294601682\n"
     ]
    }
   ],
   "source": [
    "# Assuming 'predictions' contains the predictions made by your model\n",
    "\n",
    "# Extracting true labels and predicted labels\n",
    "true_labels_rf = predictions_rf.select(\"Diabetes_012\").rdd.map(lambda row: row[0])\n",
    "predicted_labels_rf = predictions_rf.select(\"prediction\").rdd.map(lambda row: row[0])\n",
    "\n",
    "# Combining true labels and predicted labels into a single RDD of (true_label, predicted_label) tuples\n",
    "prediction_and_labels_rf = true_labels_rf.zip(predicted_labels_rf)\n",
    "\n",
    "# Creating a MulticlassMetrics object\n",
    "metrics = MulticlassMetrics(prediction_and_labels_rf)\n",
    "\n",
    "# Get unique labels\n",
    "unique_labels = set(true_labels_rf.collect())\n",
    "\n",
    "# Calculate precision and recall for each class\n",
    "precision_recall_per_class = {}\n",
    "for label in unique_labels:\n",
    "    try:\n",
    "        precision = metrics.precision(label)\n",
    "        recall = metrics.recall(label)\n",
    "        precision_recall_per_class[label] = (precision, recall)\n",
    "    except:\n",
    "        precision_recall_per_class[label] = (0.0, 0.0)  # Handle the case where precision and recall are not available\n",
    "\n",
    "# Print precision and recall for each class\n",
    "for label, (precision, recall) in precision_recall_per_class.items():\n",
    "    print(f\"Class {label}: Precision = {precision:.4f}, Recall = {recall:.4f}\")\n",
    "print(metrics.confusionMatrix())\n",
    "\n",
    "print(true_labels_rf.distinct().collect())\n",
    "print(prediction_and_labels_rf.distinct().collect())\n",
    "\n",
    "print(\"Precision: \", evaluator.evaluate(predictions_rf, {evaluator.metricName: \"weightedPrecision\"}))\n",
    "print(\"Recall \", evaluator.evaluate(predictions_rf, {evaluator.metricName: \"weightedRecall\"}))"
   ]
  },
  {
   "cell_type": "code",
   "execution_count": 0,
   "metadata": {
    "application/vnd.databricks.v1+cell": {
     "cellMetadata": {
      "byteLimit": 2048000,
      "rowLimit": 10000
     },
     "inputWidgets": {},
     "nuid": "1ae4a232-fd7f-4489-9261-6f33279191a8",
     "showTitle": false,
     "title": ""
    }
   },
   "outputs": [
    {
     "output_type": "display_data",
     "data": {
      "image/png": "[encoded data removed]"
     },
     "metadata": {
      "application/vnd.databricks.v1+output": {
       "addedWidgets": {},
       "arguments": {},
       "data": "data:image/png;base64,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\n",
       "datasetInfos": [],
       "metadata": {},
       "removedWidgets": [],
       "type": "image"
      }
     },
     "output_type": "display_data"
    }
   ],
   "source": [
    "# Assuming 'predictions' contains the predictions made by your model\n",
    "\n",
    "# Extracting true labels and predicted labels\n",
    "true_labels_rf = predictions_rf.select(\"Diabetes_012\").rdd.map(lambda row: row[0])\n",
    "predicted_labels_rf = predictions_rf.select(\"prediction\").rdd.map(lambda row: row[0])\n",
    "\n",
    "# Combining true labels and predicted labels into a single RDD of (true_label, predicted_label) tuples\n",
    "prediction_and_labels_rf = true_labels_rf.zip(predicted_labels_rf)\n",
    "\n",
    "# Creating a MulticlassMetrics object\n",
    "metrics = MulticlassMetrics(prediction_and_labels_rf)\n",
    "\n",
    "# Get unique labels\n",
    "unique_labels = sorted(set(true_labels_rf.collect()))\n",
    "\n",
    "# Calculate precision and recall for each class\n",
    "precision_per_class = []\n",
    "recall_per_class = []\n",
    "for label in unique_labels:\n",
    "    try:\n",
    "        precision = metrics.precision(label)\n",
    "        recall = metrics.recall(label)\n",
    "        precision_per_class.append(precision)\n",
    "        recall_per_class.append(recall)\n",
    "    except:\n",
    "        precision_per_class.append(0.0)\n",
    "        recall_per_class.append(0.0)\n",
    "\n",
    "# Plot precision and recall\n",
    "plt.figure(figsize=(10, 6))\n",
    "plt.plot(unique_labels, precision_per_class, label='Precision', marker='o')\n",
    "plt.plot(unique_labels, recall_per_class, label='Recall', marker='o')\n",
    "plt.xlabel('Class Label')\n",
    "plt.ylabel('Score')\n",
    "plt.title('Precision and Recall per Class')\n",
    "plt.xticks(unique_labels)\n",
    "plt.legend()\n",
    "plt.grid(True)\n",
    "plt.show()"
   ]
  },
  {
   "cell_type": "code",
   "execution_count": 0,
   "metadata": {
    "application/vnd.databricks.v1+cell": {
     "cellMetadata": {
      "byteLimit": 2048000,
      "rowLimit": 10000
     },
     "inputWidgets": {},
     "nuid": "767f11ca-b541-4dc4-be0e-bc8dd852829c",
     "showTitle": false,
     "title": ""
    }
   },
   "outputs": [],
   "source": [
    "lr_classifier = LogisticRegression(featuresCol='features',\n",
    "                        labelCol='Diabetes_012',\n",
    "                        family=\"multinomial\",\n",
    "                        regParam=0.05,\n",
    "                        elasticNetParam=0,\n",
    "                        maxIter=50)\n",
    "\n",
    "model = lr_classifier.fit(train)\n",
    "predictions_lr = model.transform(test)"
   ]
  },
  {
   "cell_type": "code",
   "execution_count": 0,
   "metadata": {
    "application/vnd.databricks.v1+cell": {
     "cellMetadata": {
      "byteLimit": 2048000,
      "rowLimit": 10000
     },
     "inputWidgets": {},
     "nuid": "76387b04-d2dc-4056-b429-77d39ecf91db",
     "showTitle": false,
     "title": ""
    }
   },
   "outputs": [
    {
     "output_type": "stream",
     "name": "stdout",
     "output_type": "stream",
     "text": [
      "Accuracy:  0.5383669409530699\n"
     ]
    }
   ],
   "source": [
    "evaluator = MulticlassClassificationEvaluator()\n",
    "evaluator.setLabelCol(\"Diabetes_012\")\n",
    "evaluator.setPredictionCol(\"prediction\")\n",
    "print(\"Accuracy: \", evaluator.evaluate(predictions_lr, {evaluator.metricName: \"accuracy\"}))"
   ]
  },
  {
   "cell_type": "code",
   "execution_count": 0,
   "metadata": {
    "application/vnd.databricks.v1+cell": {
     "cellMetadata": {
      "byteLimit": 2048000,
      "rowLimit": 10000
     },
     "inputWidgets": {},
     "nuid": "c907ee70-0192-477e-9ae7-d956246502b1",
     "showTitle": false,
     "title": ""
    }
   },
   "outputs": [],
   "source": [
    "nb_classifier = NaiveBayes(smoothing=0.05, modelType=\"multinomial\", featuresCol=\"features\", labelCol=\"Diabetes_012\", thresholds=[0.3, 0.3, 0.4])\n",
    "model_nb = nb_classifier.fit(train)\n",
    "predictions_nb = model_nb.transform(test)"
   ]
  },
  {
   "cell_type": "code",
   "execution_count": 0,
   "metadata": {
    "application/vnd.databricks.v1+cell": {
     "cellMetadata": {
      "byteLimit": 2048000,
      "rowLimit": 10000
     },
     "inputWidgets": {},
     "nuid": "53a7db43-c53f-4733-8e5c-d92b29b8ed91",
     "showTitle": false,
     "title": ""
    }
   },
   "outputs": [
    {
     "output_type": "stream",
     "name": "stdout",
     "output_type": "stream",
     "text": [
      "Accuracy:  0.43165747355095396\n"
     ]
    }
   ],
   "source": [
    "evaluator = MulticlassClassificationEvaluator()\n",
    "evaluator.setLabelCol(\"Diabetes_012\")\n",
    "evaluator.setPredictionCol(\"prediction\")\n",
    "print(\"Accuracy: \", evaluator.evaluate(predictions_nb, {evaluator.metricName: \"accuracy\"}))"
   ]
  },
  {
   "cell_type": "code",
   "execution_count": 0,
   "metadata": {
    "application/vnd.databricks.v1+cell": {
     "cellMetadata": {
      "byteLimit": 2048000,
      "rowLimit": 10000
     },
     "inputWidgets": {},
     "nuid": "a3ad5b2a-9220-442a-9445-d7ff6403b646",
     "showTitle": false,
     "title": ""
    }
   },
   "outputs": [],
   "source": [
    "# gbt_classifier = GBTClassifier(featuresCol=\"features\", labelCol=\"Diabetes_012\",maxDepth=10, maxIter=20)\n",
    "# model = gbt_classifier.fit(train)\n",
    "# predictions_gbt = model.transform(test)"
   ]
  },
  {
   "cell_type": "code",
   "execution_count": 0,
   "metadata": {
    "application/vnd.databricks.v1+cell": {
     "cellMetadata": {
      "byteLimit": 2048000,
      "rowLimit": 10000
     },
     "inputWidgets": {},
     "nuid": "36d55e40-df01-48b9-b55a-7e9daddccb95",
     "showTitle": false,
     "title": ""
    }
   },
   "outputs": [],
   "source": [
    "# evaluator = MulticlassClassificationEvaluator()\n",
    "# evaluator.setLabelCol(\"Diabetes_012\")\n",
    "# evaluator.setPredictionCol(\"prediction\")\n",
    "# print(\"Accuracy: \", evaluator.evaluate(predictions_gbt, {evaluator.metricName: \"accuracy\"}))"
   ]
  },
  {
   "cell_type": "code",
   "execution_count": 0,
   "metadata": {
    "application/vnd.databricks.v1+cell": {
     "cellMetadata": {
      "byteLimit": 2048000,
      "rowLimit": 10000
     },
     "inputWidgets": {},
     "nuid": "7458ce20-01ac-4cae-877c-2463303d5518",
     "showTitle": false,
     "title": ""
    }
   },
   "outputs": [
    {
     "output_type": "stream",
     "name": "stdout",
     "output_type": "stream",
     "text": [
      "Out[50]: (DataFrame[Diabetes_012: double, HighBP: double, HighChol: double, CholCheck: double, BMI: double, Smoker: double, Stroke: double, HeartDiseaseorAttack: double, PhysActivity: double, Veggies: double, HvyAlcoholConsump: double, NoDocbcCost: double, GenHlth: double, MentHlth: double, PhysHlth: double, DiffWalk: double, Age: double, Education: double, Income: double, features: vector, scaled_features: vector],\n DataFrame[Diabetes_012: double, HighBP: double, HighChol: double, CholCheck: double, BMI: double, Smoker: double, Stroke: double, HeartDiseaseorAttack: double, PhysActivity: double, Veggies: double, HvyAlcoholConsump: double, NoDocbcCost: double, GenHlth: double, MentHlth: double, PhysHlth: double, DiffWalk: double, Age: double, Education: double, Income: double, features: vector, scaled_features: vector])"
     ]
    }
   ],
   "source": [
    "train, test"
   ]
  },
  {
   "cell_type": "code",
   "execution_count": 0,
   "metadata": {
    "application/vnd.databricks.v1+cell": {
     "cellMetadata": {
      "byteLimit": 2048000,
      "rowLimit": 10000
     },
     "inputWidgets": {},
     "nuid": "125a7d87-218e-4293-aac5-0445b26f80a8",
     "showTitle": false,
     "title": ""
    }
   },
   "outputs": [],
   "source": [
    "# layers = [4, 5, 4, 3]\n",
    "# mlp_classifier = MultilayerPerceptronClassifier(maxIter=100, layers=layers, blockSize=128, seed=42, featuresCol=\"features\", labelCol=\"Diabetes_012\")\n",
    "# model_mlp = mlp_classifier.fit(train)\n",
    "# predictions_mlp = model_mlp.transform(test)"
   ]
  },
  {
   "cell_type": "code",
   "execution_count": 0,
   "metadata": {
    "application/vnd.databricks.v1+cell": {
     "cellMetadata": {
      "byteLimit": 2048000,
      "rowLimit": 10000
     },
     "inputWidgets": {},
     "nuid": "6ce70248-25ff-474b-923b-4f86f9fb53b6",
     "showTitle": false,
     "title": ""
    }
   },
   "outputs": [],
   "source": [
    "layers = [len(train.select('features').take(1)[0][0]), 5, 4, len(train.select('Diabetes_012').distinct().collect())]\n",
    "\n",
    "# Create the Multilayer Perceptron Classifier\n",
    "mlp = MultilayerPerceptronClassifier(labelCol=\"Diabetes_012\",maxIter=100, layers=layers, blockSize=128, seed=1234)\n",
    "\n",
    "# Train the model\n",
    "mlp_model = mlp.fit(train)\n",
    "\n",
    "# Make predictions on the test data\n",
    "predictions_mlp = mlp_model.transform(test)"
   ]
  },
  {
   "cell_type": "code",
   "execution_count": 0,
   "metadata": {
    "application/vnd.databricks.v1+cell": {
     "cellMetadata": {
      "byteLimit": 2048000,
      "rowLimit": 10000
     },
     "inputWidgets": {},
     "nuid": "1cbace8e-5efc-4df1-af63-4a714776fc42",
     "showTitle": false,
     "title": ""
    }
   },
   "outputs": [
    {
     "output_type": "stream",
     "name": "stdout",
     "output_type": "stream",
     "text": [
      "Accuracy:  0.5288904964282485\n"
     ]
    }
   ],
   "source": [
    "evaluator = MulticlassClassificationEvaluator()\n",
    "evaluator.setLabelCol(\"Diabetes_012\")\n",
    "evaluator.setPredictionCol(\"prediction\")\n",
    "print(\"Accuracy: \", evaluator.evaluate(predictions_mlp, {evaluator.metricName: \"accuracy\"}))"
   ]
  },
  {
   "cell_type": "code",
   "execution_count": 0,
   "metadata": {
    "application/vnd.databricks.v1+cell": {
     "cellMetadata": {
      "byteLimit": 2048000,
      "rowLimit": 10000
     },
     "inputWidgets": {},
     "nuid": "a8da6c07-25e5-4420-8b21-bda58c588a29",
     "showTitle": false,
     "title": ""
    }
   },
   "outputs": [
    {
     "output_type": "stream",
     "name": "stdout",
     "output_type": "stream",
     "text": [
      "Class 0.0: Precision = 0.5812, Recall = 0.6925\nClass 1.0: Precision = 0.2440, Recall = 0.4247\nClass 2.0: Precision = 0.7601, Recall = 0.4797\nDenseMatrix([[21483.,  6796.,  2745.],\n             [ 6027.,  8959.,  6108.],\n             [ 9455., 20969., 28048.]])\n[0.0, 1.0, 2.0]\n[(2.0, 0.0), (0.0, 0.0), (1.0, 0.0), (1.0, 1.0), (1.0, 2.0), (0.0, 2.0), (2.0, 2.0), (0.0, 1.0), (2.0, 1.0)]\nPrecision:  0.5325529998872367\nRecall  0.5288904964282485\n"
     ]
    }
   ],
   "source": [
    "# Assuming 'predictions' contains the predictions made by your model\n",
    "\n",
    "# Extracting true labels and predicted labels\n",
    "true_labels_mlp = predictions_mlp.select(\"Diabetes_012\").rdd.map(lambda row: row[0])\n",
    "predicted_labels_mlp = predictions_mlp.select(\"prediction\").rdd.map(lambda row: row[0])\n",
    "\n",
    "# Combining true labels and predicted labels into a single RDD of (true_label, predicted_label) tuples\n",
    "prediction_and_labels_mlp = true_labels_mlp.zip(predicted_labels_mlp)\n",
    "\n",
    "# Creating a MulticlassMetrics object\n",
    "metrics = MulticlassMetrics(prediction_and_labels_mlp)\n",
    "\n",
    "# Get unique labels\n",
    "unique_labels = set(true_labels_mlp.collect())\n",
    "\n",
    "# Calculate precision and recall for each class\n",
    "precision_recall_per_class = {}\n",
    "for label in unique_labels:\n",
    "    try:\n",
    "        precision = metrics.precision(label)\n",
    "        recall = metrics.recall(label)\n",
    "        precision_recall_per_class[label] = (precision, recall)\n",
    "    except:\n",
    "        precision_recall_per_class[label] = (0.0, 0.0)  # Handle the case where precision and recall are not available\n",
    "\n",
    "# Print precision and recall for each class\n",
    "for label, (precision, recall) in precision_recall_per_class.items():\n",
    "    print(f\"Class {label}: Precision = {precision:.4f}, Recall = {recall:.4f}\")\n",
    "print(metrics.confusionMatrix())\n",
    "\n",
    "print(true_labels_mlp.distinct().collect())\n",
    "print(prediction_and_labels_mlp.distinct().collect())\n",
    "\n",
    "print(\"Precision: \", evaluator.evaluate(predictions_mlp, {evaluator.metricName: \"weightedPrecision\"}))\n",
    "print(\"Recall \", evaluator.evaluate(predictions_mlp, {evaluator.metricName: \"weightedRecall\"}))"
   ]
  },
  {
   "cell_type": "code",
   "execution_count": 0,
   "metadata": {
    "application/vnd.databricks.v1+cell": {
     "cellMetadata": {
      "byteLimit": 2048000,
      "rowLimit": 10000
     },
     "inputWidgets": {},
     "nuid": "8b403d72-8797-4e9c-a263-bf6fac0053cc",
     "showTitle": false,
     "title": ""
    }
   },
   "outputs": [
    {
     "output_type": "display_data",
     "data": {
      "image/png": "[encoded data removed]"
     },
     "metadata": {
      "application/vnd.databricks.v1+output": {
       "addedWidgets": {},
       "arguments": {},
       "data": "data:image/png;base64,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\n",
       "datasetInfos": [],
       "metadata": {},
       "removedWidgets": [],
       "type": "image"
      }
     },
     "output_type": "display_data"
    }
   ],
   "source": [
    "# Assuming 'predictions' contains the predictions made by your model\n",
    "\n",
    "# Extracting true labels and predicted labels\n",
    "true_labels_mlp = predictions_mlp.select(\"Diabetes_012\").rdd.map(lambda row: row[0])\n",
    "predicted_labels_mlp = predictions_mlp.select(\"prediction\").rdd.map(lambda row: row[0])\n",
    "\n",
    "# Combining true labels and predicted labels into a single RDD of (true_label, predicted_label) tuples\n",
    "prediction_and_labels_mlp = true_labels_mlp.zip(predicted_labels_mlp)\n",
    "\n",
    "# Creating a MulticlassMetrics object\n",
    "metrics = MulticlassMetrics(prediction_and_labels_mlp)\n",
    "\n",
    "# Get unique labels\n",
    "unique_labels = sorted(set(true_labels_mlp.collect()))\n",
    "\n",
    "# Calculate precision and recall for each class\n",
    "precision_per_class = []\n",
    "recall_per_class = []\n",
    "for label in unique_labels:\n",
    "    try:\n",
    "        precision = metrics.precision(label)\n",
    "        recall = metrics.recall(label)\n",
    "        precision_per_class.append(precision)\n",
    "        recall_per_class.append(recall)\n",
    "    except:\n",
    "        precision_per_class.append(0.0)\n",
    "        recall_per_class.append(0.0)\n",
    "\n",
    "# Plot precision and recall\n",
    "plt.figure(figsize=(10, 6))\n",
    "plt.plot(unique_labels, precision_per_class, label='Precision', marker='o')\n",
    "plt.plot(unique_labels, recall_per_class, label='Recall', marker='o')\n",
    "plt.xlabel('Class Label')\n",
    "plt.ylabel('Score')\n",
    "plt.title('Precision and Recall per Class')\n",
    "plt.xticks(unique_labels)\n",
    "plt.legend()\n",
    "plt.grid(True)\n",
    "plt.show()"
   ]
  },
  {
   "cell_type": "code",
   "execution_count": 0,
   "metadata": {
    "application/vnd.databricks.v1+cell": {
     "cellMetadata": {
      "byteLimit": 2048000,
      "rowLimit": 10000
     },
     "inputWidgets": {},
     "nuid": "0220a2b2-221a-439c-b44d-892e9295c33c",
     "showTitle": false,
     "title": ""
    }
   },
   "outputs": [],
   "source": [
    "# evaluator = MulticlassClassificationEvaluator(metricName=\"accuracy\", labelCol=\"Diabetes_012\", predictionCol=\"prediction\")\n",
    "# evaluator.setLabelCol(\"Diabetes_012\")\n",
    "# evaluator.setPredictionCol(\"prediction\")\n",
    "# mlpc_accuracy = evaluator.evaluate(predictions)\n",
    "# print(\"Accuracy: \", mlpc_accuracy)"
   ]
  },
  {
   "cell_type": "code",
   "execution_count": 0,
   "metadata": {
    "application/vnd.databricks.v1+cell": {
     "cellMetadata": {
      "byteLimit": 2048000,
      "rowLimit": 10000
     },
     "inputWidgets": {},
     "nuid": "3b047016-1a93-40de-89da-24d573cd7085",
     "showTitle": false,
     "title": ""
    }
   },
   "outputs": [
    {
     "output_type": "display_data",
     "data": {
      "text/plain": [
       "\u001B[0;31m---------------------------------------------------------------------------\u001B[0m\n",
       "\u001B[0;31mTypeError\u001B[0m                                 Traceback (most recent call last)\n",
       "File \u001B[0;32m<command-2593147573175771>:2\u001B[0m\n",
       "\u001B[1;32m      1\u001B[0m \u001B[38;5;66;03m# Configure and train the XGBoost model\u001B[39;00m\n",
       "\u001B[0;32m----> 2\u001B[0m xgb_classifier \u001B[38;5;241m=\u001B[39m XGBoostClassifier(featuresCol\u001B[38;5;241m=\u001B[39m\u001B[38;5;124m\"\u001B[39m\u001B[38;5;124mfeatures\u001B[39m\u001B[38;5;124m\"\u001B[39m, labelCol\u001B[38;5;241m=\u001B[39m\u001B[38;5;124m\"\u001B[39m\u001B[38;5;124mDiabetes_012\u001B[39m\u001B[38;5;124m\"\u001B[39m, eta\u001B[38;5;241m=\u001B[39m\u001B[38;5;241m0.1\u001B[39m, maxDepth\u001B[38;5;241m=\u001B[39m\u001B[38;5;241m10\u001B[39m, numClass\u001B[38;5;241m=\u001B[39m\u001B[38;5;241m3\u001B[39m, numRound\u001B[38;5;241m=\u001B[39m\u001B[38;5;241m100\u001B[39m, numWorkers\u001B[38;5;241m=\u001B[39m\u001B[38;5;241m4\u001B[39m, seed\u001B[38;5;241m=\u001B[39m\u001B[38;5;241m42\u001B[39m, objective\u001B[38;5;241m=\u001B[39m\u001B[38;5;124m\"\u001B[39m\u001B[38;5;124mmulti:softmax\u001B[39m\u001B[38;5;124m\"\u001B[39m, subsample\u001B[38;5;241m=\u001B[39m\u001B[38;5;241m0.8\u001B[39m, colsampleBytree\u001B[38;5;241m=\u001B[39m\u001B[38;5;241m0.6\u001B[39m)\n",
       "\u001B[1;32m      4\u001B[0m model \u001B[38;5;241m=\u001B[39m xgb_classifier\u001B[38;5;241m.\u001B[39mfit(train)\n",
       "\u001B[1;32m      6\u001B[0m \u001B[38;5;66;03m# Make predictions\u001B[39;00m\n",
       "\n",
       "File \u001B[0;32m/databricks/spark/python/pyspark/__init__.py:135\u001B[0m, in \u001B[0;36mkeyword_only.<locals>.wrapper\u001B[0;34m(self, *args, **kwargs)\u001B[0m\n",
       "\u001B[1;32m    133\u001B[0m     \u001B[38;5;28;01mraise\u001B[39;00m \u001B[38;5;167;01mTypeError\u001B[39;00m(\u001B[38;5;124m\"\u001B[39m\u001B[38;5;124mMethod \u001B[39m\u001B[38;5;132;01m%s\u001B[39;00m\u001B[38;5;124m forces keyword arguments.\u001B[39m\u001B[38;5;124m\"\u001B[39m \u001B[38;5;241m%\u001B[39m func\u001B[38;5;241m.\u001B[39m\u001B[38;5;18m__name__\u001B[39m)\n",
       "\u001B[1;32m    134\u001B[0m \u001B[38;5;28mself\u001B[39m\u001B[38;5;241m.\u001B[39m_input_kwargs \u001B[38;5;241m=\u001B[39m kwargs\n",
       "\u001B[0;32m--> 135\u001B[0m \u001B[38;5;28;01mreturn\u001B[39;00m \u001B[43mfunc\u001B[49m\u001B[43m(\u001B[49m\u001B[38;5;28;43mself\u001B[39;49m\u001B[43m,\u001B[49m\u001B[43m \u001B[49m\u001B[38;5;241;43m*\u001B[39;49m\u001B[38;5;241;43m*\u001B[39;49m\u001B[43mkwargs\u001B[49m\u001B[43m)\u001B[49m\n",
       "\n",
       "File \u001B[0;32m/local_disk0/.ephemeral_nfs/envs/pythonEnv-e20836ac-fe25-402e-b1e9-00461cc71512/lib/python3.9/site-packages/sparkxgb/xgboost.py:81\u001B[0m, in \u001B[0;36mXGBoostClassifier.__init__\u001B[0;34m(self, alpha, baseMarginCol, baseScore, cacheTrainingSet, checkpointInterval, checkpointPath, colsampleBylevel, colsampleBytree, contribPredictionCol, eta, evalMetric, featuresCol, gamma, growPolicy, interactionConstraints, labelCol, lambda_, lambdaBias, leafPredictionCol, maxBins, maxDeltaStep, maxDepth, maxLeaves, maximizeEvaluationMetrics, minChildWeight, missing, monotoneConstraints, normalizeType, nthread, numClass, numEarlyStoppingRounds, numRound, numWorkers, objective, objectiveType, predictionCol, probabilityCol, rateDrop, rawPredictionCol, sampleType, scalePosWeight, seed, silent, sketchEps, skipDrop, subsample, thresholds, timeoutRequestWorkers, trainTestRatio, treeLimit, treeMethod, useExternalMemory, verbosity, weightCol)\u001B[0m\n",
       "\u001B[1;32m     25\u001B[0m \u001B[38;5;129m@keyword_only\u001B[39m\n",
       "\u001B[1;32m     26\u001B[0m \u001B[38;5;28;01mdef\u001B[39;00m \u001B[38;5;21m__init__\u001B[39m(\u001B[38;5;28mself\u001B[39m,\n",
       "\u001B[1;32m     27\u001B[0m              alpha\u001B[38;5;241m=\u001B[39m\u001B[38;5;241m0.0\u001B[39m,\n",
       "\u001B[0;32m   (...)\u001B[0m\n",
       "\u001B[1;32m     79\u001B[0m              verbosity\u001B[38;5;241m=\u001B[39m\u001B[38;5;241m1\u001B[39m,\n",
       "\u001B[1;32m     80\u001B[0m              weightCol\u001B[38;5;241m=\u001B[39m\u001B[38;5;28;01mNone\u001B[39;00m):\n",
       "\u001B[0;32m---> 81\u001B[0m     \u001B[38;5;28;43msuper\u001B[39;49m\u001B[43m(\u001B[49m\u001B[43mXGBoostClassifier\u001B[49m\u001B[43m,\u001B[49m\u001B[43m \u001B[49m\u001B[38;5;28;43mself\u001B[39;49m\u001B[43m)\u001B[49m\u001B[38;5;241;43m.\u001B[39;49m\u001B[38;5;21;43m__init__\u001B[39;49m\u001B[43m(\u001B[49m\u001B[43mclassname\u001B[49m\u001B[38;5;241;43m=\u001B[39;49m\u001B[38;5;124;43m\"\u001B[39;49m\u001B[38;5;124;43mml.dmlc.xgboost4j.scala.spark.XGBoostClassifier\u001B[39;49m\u001B[38;5;124;43m\"\u001B[39;49m\u001B[43m)\u001B[49m\n",
       "\u001B[1;32m     82\u001B[0m     kwargs \u001B[38;5;241m=\u001B[39m \u001B[38;5;28mself\u001B[39m\u001B[38;5;241m.\u001B[39m_input_kwargs\n",
       "\u001B[1;32m     83\u001B[0m     \u001B[38;5;28;01mif\u001B[39;00m \u001B[38;5;124m\"\u001B[39m\u001B[38;5;124mreg_lambda\u001B[39m\u001B[38;5;124m\"\u001B[39m \u001B[38;5;129;01min\u001B[39;00m kwargs:\n",
       "\n",
       "File \u001B[0;32m/local_disk0/.ephemeral_nfs/envs/pythonEnv-e20836ac-fe25-402e-b1e9-00461cc71512/lib/python3.9/site-packages/sparkxgb/common.py:68\u001B[0m, in \u001B[0;36mXGboostEstimator.__init__\u001B[0;34m(self, classname)\u001B[0m\n",
       "\u001B[1;32m     66\u001B[0m \u001B[38;5;28msuper\u001B[39m(XGboostEstimator, \u001B[38;5;28mself\u001B[39m)\u001B[38;5;241m.\u001B[39m\u001B[38;5;21m__init__\u001B[39m()\n",
       "\u001B[1;32m     67\u001B[0m \u001B[38;5;28mself\u001B[39m\u001B[38;5;241m.\u001B[39m\u001B[38;5;18m__class__\u001B[39m\u001B[38;5;241m.\u001B[39m_java_class_name \u001B[38;5;241m=\u001B[39m classname\n",
       "\u001B[0;32m---> 68\u001B[0m \u001B[38;5;28mself\u001B[39m\u001B[38;5;241m.\u001B[39m_java_obj \u001B[38;5;241m=\u001B[39m \u001B[38;5;28;43mself\u001B[39;49m\u001B[38;5;241;43m.\u001B[39;49m\u001B[43m_new_java_obj\u001B[49m\u001B[43m(\u001B[49m\u001B[43mclassname\u001B[49m\u001B[43m,\u001B[49m\u001B[43m \u001B[49m\u001B[38;5;28;43mself\u001B[39;49m\u001B[38;5;241;43m.\u001B[39;49m\u001B[43muid\u001B[49m\u001B[43m)\u001B[49m\n",
       "\u001B[1;32m     69\u001B[0m \u001B[38;5;28mself\u001B[39m\u001B[38;5;241m.\u001B[39m_create_params_from_java()\n",
       "\u001B[1;32m     70\u001B[0m \u001B[38;5;28mself\u001B[39m\u001B[38;5;241m.\u001B[39m_create_param_getters_and_setters()\n",
       "\n",
       "File \u001B[0;32m/databricks/spark/python/pyspark/ml/wrapper.py:86\u001B[0m, in \u001B[0;36mJavaWrapper._new_java_obj\u001B[0;34m(java_class, *args)\u001B[0m\n",
       "\u001B[1;32m     84\u001B[0m     java_obj \u001B[38;5;241m=\u001B[39m \u001B[38;5;28mgetattr\u001B[39m(java_obj, name)\n",
       "\u001B[1;32m     85\u001B[0m java_args \u001B[38;5;241m=\u001B[39m [_py2java(sc, arg) \u001B[38;5;28;01mfor\u001B[39;00m arg \u001B[38;5;129;01min\u001B[39;00m args]\n",
       "\u001B[0;32m---> 86\u001B[0m \u001B[38;5;28;01mreturn\u001B[39;00m \u001B[43mjava_obj\u001B[49m\u001B[43m(\u001B[49m\u001B[38;5;241;43m*\u001B[39;49m\u001B[43mjava_args\u001B[49m\u001B[43m)\u001B[49m\n",
       "\n",
       "\u001B[0;31mTypeError\u001B[0m: 'JavaPackage' object is not callable"
      ]
     },
     "metadata": {
      "application/vnd.databricks.v1+output": {
       "arguments": {},
       "data": "\u001B[0;31m---------------------------------------------------------------------------\u001B[0m\n\u001B[0;31mTypeError\u001B[0m                                 Traceback (most recent call last)\nFile \u001B[0;32m<command-2593147573175771>:2\u001B[0m\n\u001B[1;32m      1\u001B[0m \u001B[38;5;66;03m# Configure and train the XGBoost model\u001B[39;00m\n\u001B[0;32m----> 2\u001B[0m xgb_classifier \u001B[38;5;241m=\u001B[39m XGBoostClassifier(featuresCol\u001B[38;5;241m=\u001B[39m\u001B[38;5;124m\"\u001B[39m\u001B[38;5;124mfeatures\u001B[39m\u001B[38;5;124m\"\u001B[39m, labelCol\u001B[38;5;241m=\u001B[39m\u001B[38;5;124m\"\u001B[39m\u001B[38;5;124mDiabetes_012\u001B[39m\u001B[38;5;124m\"\u001B[39m, eta\u001B[38;5;241m=\u001B[39m\u001B[38;5;241m0.1\u001B[39m, maxDepth\u001B[38;5;241m=\u001B[39m\u001B[38;5;241m10\u001B[39m, numClass\u001B[38;5;241m=\u001B[39m\u001B[38;5;241m3\u001B[39m, numRound\u001B[38;5;241m=\u001B[39m\u001B[38;5;241m100\u001B[39m, numWorkers\u001B[38;5;241m=\u001B[39m\u001B[38;5;241m4\u001B[39m, seed\u001B[38;5;241m=\u001B[39m\u001B[38;5;241m42\u001B[39m, objective\u001B[38;5;241m=\u001B[39m\u001B[38;5;124m\"\u001B[39m\u001B[38;5;124mmulti:softmax\u001B[39m\u001B[38;5;124m\"\u001B[39m, subsample\u001B[38;5;241m=\u001B[39m\u001B[38;5;241m0.8\u001B[39m, colsampleBytree\u001B[38;5;241m=\u001B[39m\u001B[38;5;241m0.6\u001B[39m)\n\u001B[1;32m      4\u001B[0m model \u001B[38;5;241m=\u001B[39m xgb_classifier\u001B[38;5;241m.\u001B[39mfit(train)\n\u001B[1;32m      6\u001B[0m \u001B[38;5;66;03m# Make predictions\u001B[39;00m\n\nFile \u001B[0;32m/databricks/spark/python/pyspark/__init__.py:135\u001B[0m, in \u001B[0;36mkeyword_only.<locals>.wrapper\u001B[0;34m(self, *args, **kwargs)\u001B[0m\n\u001B[1;32m    133\u001B[0m     \u001B[38;5;28;01mraise\u001B[39;00m \u001B[38;5;167;01mTypeError\u001B[39;00m(\u001B[38;5;124m\"\u001B[39m\u001B[38;5;124mMethod \u001B[39m\u001B[38;5;132;01m%s\u001B[39;00m\u001B[38;5;124m forces keyword arguments.\u001B[39m\u001B[38;5;124m\"\u001B[39m \u001B[38;5;241m%\u001B[39m func\u001B[38;5;241m.\u001B[39m\u001B[38;5;18m__name__\u001B[39m)\n\u001B[1;32m    134\u001B[0m \u001B[38;5;28mself\u001B[39m\u001B[38;5;241m.\u001B[39m_input_kwargs \u001B[38;5;241m=\u001B[39m kwargs\n\u001B[0;32m--> 135\u001B[0m \u001B[38;5;28;01mreturn\u001B[39;00m \u001B[43mfunc\u001B[49m\u001B[43m(\u001B[49m\u001B[38;5;28;43mself\u001B[39;49m\u001B[43m,\u001B[49m\u001B[43m \u001B[49m\u001B[38;5;241;43m*\u001B[39;49m\u001B[38;5;241;43m*\u001B[39;49m\u001B[43mkwargs\u001B[49m\u001B[43m)\u001B[49m\n\nFile \u001B[0;32m/local_disk0/.ephemeral_nfs/envs/pythonEnv-e20836ac-fe25-402e-b1e9-00461cc71512/lib/python3.9/site-packages/sparkxgb/xgboost.py:81\u001B[0m, in \u001B[0;36mXGBoostClassifier.__init__\u001B[0;34m(self, alpha, baseMarginCol, baseScore, cacheTrainingSet, checkpointInterval, checkpointPath, colsampleBylevel, colsampleBytree, contribPredictionCol, eta, evalMetric, featuresCol, gamma, growPolicy, interactionConstraints, labelCol, lambda_, lambdaBias, leafPredictionCol, maxBins, maxDeltaStep, maxDepth, maxLeaves, maximizeEvaluationMetrics, minChildWeight, missing, monotoneConstraints, normalizeType, nthread, numClass, numEarlyStoppingRounds, numRound, numWorkers, objective, objectiveType, predictionCol, probabilityCol, rateDrop, rawPredictionCol, sampleType, scalePosWeight, seed, silent, sketchEps, skipDrop, subsample, thresholds, timeoutRequestWorkers, trainTestRatio, treeLimit, treeMethod, useExternalMemory, verbosity, weightCol)\u001B[0m\n\u001B[1;32m     25\u001B[0m \u001B[38;5;129m@keyword_only\u001B[39m\n\u001B[1;32m     26\u001B[0m \u001B[38;5;28;01mdef\u001B[39;00m \u001B[38;5;21m__init__\u001B[39m(\u001B[38;5;28mself\u001B[39m,\n\u001B[1;32m     27\u001B[0m              alpha\u001B[38;5;241m=\u001B[39m\u001B[38;5;241m0.0\u001B[39m,\n\u001B[0;32m   (...)\u001B[0m\n\u001B[1;32m     79\u001B[0m              verbosity\u001B[38;5;241m=\u001B[39m\u001B[38;5;241m1\u001B[39m,\n\u001B[1;32m     80\u001B[0m              weightCol\u001B[38;5;241m=\u001B[39m\u001B[38;5;28;01mNone\u001B[39;00m):\n\u001B[0;32m---> 81\u001B[0m     \u001B[38;5;28;43msuper\u001B[39;49m\u001B[43m(\u001B[49m\u001B[43mXGBoostClassifier\u001B[49m\u001B[43m,\u001B[49m\u001B[43m \u001B[49m\u001B[38;5;28;43mself\u001B[39;49m\u001B[43m)\u001B[49m\u001B[38;5;241;43m.\u001B[39;49m\u001B[38;5;21;43m__init__\u001B[39;49m\u001B[43m(\u001B[49m\u001B[43mclassname\u001B[49m\u001B[38;5;241;43m=\u001B[39;49m\u001B[38;5;124;43m\"\u001B[39;49m\u001B[38;5;124;43mml.dmlc.xgboost4j.scala.spark.XGBoostClassifier\u001B[39;49m\u001B[38;5;124;43m\"\u001B[39;49m\u001B[43m)\u001B[49m\n\u001B[1;32m     82\u001B[0m     kwargs \u001B[38;5;241m=\u001B[39m \u001B[38;5;28mself\u001B[39m\u001B[38;5;241m.\u001B[39m_input_kwargs\n\u001B[1;32m     83\u001B[0m     \u001B[38;5;28;01mif\u001B[39;00m \u001B[38;5;124m\"\u001B[39m\u001B[38;5;124mreg_lambda\u001B[39m\u001B[38;5;124m\"\u001B[39m \u001B[38;5;129;01min\u001B[39;00m kwargs:\n\nFile \u001B[0;32m/local_disk0/.ephemeral_nfs/envs/pythonEnv-e20836ac-fe25-402e-b1e9-00461cc71512/lib/python3.9/site-packages/sparkxgb/common.py:68\u001B[0m, in \u001B[0;36mXGboostEstimator.__init__\u001B[0;34m(self, classname)\u001B[0m\n\u001B[1;32m     66\u001B[0m \u001B[38;5;28msuper\u001B[39m(XGboostEstimator, \u001B[38;5;28mself\u001B[39m)\u001B[38;5;241m.\u001B[39m\u001B[38;5;21m__init__\u001B[39m()\n\u001B[1;32m     67\u001B[0m \u001B[38;5;28mself\u001B[39m\u001B[38;5;241m.\u001B[39m\u001B[38;5;18m__class__\u001B[39m\u001B[38;5;241m.\u001B[39m_java_class_name \u001B[38;5;241m=\u001B[39m classname\n\u001B[0;32m---> 68\u001B[0m \u001B[38;5;28mself\u001B[39m\u001B[38;5;241m.\u001B[39m_java_obj \u001B[38;5;241m=\u001B[39m \u001B[38;5;28;43mself\u001B[39;49m\u001B[38;5;241;43m.\u001B[39;49m\u001B[43m_new_java_obj\u001B[49m\u001B[43m(\u001B[49m\u001B[43mclassname\u001B[49m\u001B[43m,\u001B[49m\u001B[43m \u001B[49m\u001B[38;5;28;43mself\u001B[39;49m\u001B[38;5;241;43m.\u001B[39;49m\u001B[43muid\u001B[49m\u001B[43m)\u001B[49m\n\u001B[1;32m     69\u001B[0m \u001B[38;5;28mself\u001B[39m\u001B[38;5;241m.\u001B[39m_create_params_from_java()\n\u001B[1;32m     70\u001B[0m \u001B[38;5;28mself\u001B[39m\u001B[38;5;241m.\u001B[39m_create_param_getters_and_setters()\n\nFile \u001B[0;32m/databricks/spark/python/pyspark/ml/wrapper.py:86\u001B[0m, in \u001B[0;36mJavaWrapper._new_java_obj\u001B[0;34m(java_class, *args)\u001B[0m\n\u001B[1;32m     84\u001B[0m     java_obj \u001B[38;5;241m=\u001B[39m \u001B[38;5;28mgetattr\u001B[39m(java_obj, name)\n\u001B[1;32m     85\u001B[0m java_args \u001B[38;5;241m=\u001B[39m [_py2java(sc, arg) \u001B[38;5;28;01mfor\u001B[39;00m arg \u001B[38;5;129;01min\u001B[39;00m args]\n\u001B[0;32m---> 86\u001B[0m \u001B[38;5;28;01mreturn\u001B[39;00m \u001B[43mjava_obj\u001B[49m\u001B[43m(\u001B[49m\u001B[38;5;241;43m*\u001B[39;49m\u001B[43mjava_args\u001B[49m\u001B[43m)\u001B[49m\n\n\u001B[0;31mTypeError\u001B[0m: 'JavaPackage' object is not callable",
       "errorSummary": "<span class='ansi-red-fg'>TypeError</span>: 'JavaPackage' object is not callable",
       "errorTraceType": "ansi",
       "metadata": {},
       "type": "ipynbError"
      }
     },
     "output_type": "display_data"
    }
   ],
   "source": [
    "# Configure and train the XGBoost model\n",
    "xgb_classifier = XGBoostClassifier(featuresCol=\"features\", labelCol=\"Diabetes_012\", eta=0.1, maxDepth=10, numClass=3, numRound=100, numWorkers=4, seed=42, objective=\"multi:softmax\", subsample=0.8, colsampleBytree=0.6)\n",
    "\n",
    "model = xgb_classifier.fit(train)\n",
    "\n",
    "# Make predictions\n",
    "predictions_xg = model.transform(test)"
   ]
  },
  {
   "cell_type": "code",
   "execution_count": 0,
   "metadata": {
    "application/vnd.databricks.v1+cell": {
     "cellMetadata": {
      "byteLimit": 2048000,
      "rowLimit": 10000
     },
     "inputWidgets": {},
     "nuid": "c1f47b27-1511-45c9-b886-50ce8bab0114",
     "showTitle": false,
     "title": ""
    }
   },
   "outputs": [
    {
     "output_type": "display_data",
     "data": {
      "text/plain": [
       ""
      ]
     },
     "metadata": {
      "application/vnd.databricks.v1+output": {
       "arguments": {},
       "data": "",
       "errorSummary": "Command skipped",
       "errorTraceType": "ansi",
       "metadata": {},
       "type": "ipynbError"
      }
     },
     "output_type": "display_data"
    }
   ],
   "source": [
    "evaluator = MulticlassClassificationEvaluator()\n",
    "evaluator.setLabelCol(\"Diabetes_012\")\n",
    "evaluator.setPredictionCol(\"prediction\")\n",
    "print(\"Accuracy: \", evaluator.evaluate(predictions_xg, {evaluator.metricName: \"accuracy\"}))"
   ]
  },
  {
   "cell_type": "code",
   "execution_count": 0,
   "metadata": {
    "application/vnd.databricks.v1+cell": {
     "cellMetadata": {
      "byteLimit": 2048000,
      "rowLimit": 10000
     },
     "inputWidgets": {},
     "nuid": "bdf03024-3659-45ef-8caa-474db92ff476",
     "showTitle": false,
     "title": ""
    }
   },
   "outputs": [
    {
     "output_type": "display_data",
     "data": {
      "text/plain": [
       ""
      ]
     },
     "metadata": {
      "application/vnd.databricks.v1+output": {
       "arguments": {},
       "data": "",
       "errorSummary": "Command skipped",
       "errorTraceType": "ansi",
       "metadata": {},
       "type": "ipynbError"
      }
     },
     "output_type": "display_data"
    }
   ],
   "source": [
    "# Assuming 'predictions' contains the predictions made by your model\n",
    "\n",
    "# Extracting true labels and predicted labels\n",
    "true_labels_dt = predictions_dt.select(\"Diabetes_012\").rdd.map(lambda row: row[0])\n",
    "predicted_labels_dt = predictions_dt.select(\"prediction\").rdd.map(lambda row: row[0])\n",
    "\n",
    "# Combining true labels and predicted labels into a single RDD of (true_label, predicted_label) tuples\n",
    "prediction_and_labels_dt = true_labels_dt.zip(predicted_labels_dt)\n",
    "\n",
    "# Creating a MulticlassMetrics object\n",
    "metrics = MulticlassMetrics(prediction_and_labels_dt)\n",
    "\n",
    "# Get unique labels\n",
    "unique_labels = set(true_labels_dt.collect())\n",
    "\n",
    "# Calculate precision and recall for each class\n",
    "precision_recall_per_class = {}\n",
    "for label in unique_labels:\n",
    "    try:\n",
    "        precision = metrics.precision(label)\n",
    "        recall = metrics.recall(label)\n",
    "        precision_recall_per_class[label] = (precision, recall)\n",
    "    except:\n",
    "        precision_recall_per_class[label] = (0.0, 0.0)  # Handle the case where precision and recall are not available\n",
    "\n",
    "# Print precision and recall for each class\n",
    "for label, (precision, recall) in precision_recall_per_class.items():\n",
    "    print(f\"Class {label}: Precision = {precision:.4f}, Recall = {recall:.4f}\")\n",
    "print(metrics.confusionMatrix())\n",
    "\n",
    "print(true_labels_dt.distinct().collect())\n",
    "print(prediction_and_labels_dt.distinct().collect())\n",
    "\n",
    "print(\"Precision: \", evaluator.evaluate(predictions_dt, {evaluator.metricName: \"weightedPrecision\"}))\n",
    "print(\"Recall \", evaluator.evaluate(predictions_dt, {evaluator.metricName: \"weightedRecall\"}))"
   ]
  },
  {
   "cell_type": "code",
   "execution_count": 0,
   "metadata": {
    "application/vnd.databricks.v1+cell": {
     "cellMetadata": {
      "byteLimit": 2048000,
      "rowLimit": 10000
     },
     "inputWidgets": {},
     "nuid": "4f277629-76bb-4b8c-817c-e5df3cde938c",
     "showTitle": false,
     "title": ""
    }
   },
   "outputs": [
    {
     "output_type": "display_data",
     "data": {
      "text/plain": [
       ""
      ]
     },
     "metadata": {
      "application/vnd.databricks.v1+output": {
       "arguments": {},
       "data": "",
       "errorSummary": "Command skipped",
       "errorTraceType": "ansi",
       "metadata": {},
       "type": "ipynbError"
      }
     },
     "output_type": "display_data"
    }
   ],
   "source": [
    "# Assuming 'predictions' contains the predictions made by your model\n",
    "\n",
    "# Extracting true labels and predicted labels\n",
    "true_labels_dt = predictions_dt.select(\"Diabetes_012\").rdd.map(lambda row: row[0])\n",
    "predicted_labels_dt = predictions_dt.select(\"prediction\").rdd.map(lambda row: row[0])\n",
    "\n",
    "# Combining true labels and predicted labels into a single RDD of (true_label, predicted_label) tuples\n",
    "prediction_and_labels_dt = true_labels_dt.zip(predicted_labels_dt)\n",
    "\n",
    "# Creating a MulticlassMetrics object\n",
    "metrics = MulticlassMetrics(prediction_and_labels_dt)\n",
    "\n",
    "# Get unique labels\n",
    "unique_labels = sorted(set(true_labels_dt.collect()))\n",
    "\n",
    "# Calculate precision and recall for each class\n",
    "precision_per_class = []\n",
    "recall_per_class = []\n",
    "for label in unique_labels:\n",
    "    try:\n",
    "        precision = metrics.precision(label)\n",
    "        recall = metrics.recall(label)\n",
    "        precision_per_class.append(precision)\n",
    "        recall_per_class.append(recall)\n",
    "    except:\n",
    "        precision_per_class.append(0.0)\n",
    "        recall_per_class.append(0.0)\n",
    "\n",
    "# Plot precision and recall\n",
    "plt.figure(figsize=(10, 6))\n",
    "plt.plot(unique_labels, precision_per_class, label='Precision', marker='o')\n",
    "plt.plot(unique_labels, recall_per_class, label='Recall', marker='o')\n",
    "plt.xlabel('Class Label')\n",
    "plt.ylabel('Score')\n",
    "plt.title('Precision and Recall per Class')\n",
    "plt.xticks(unique_labels)\n",
    "plt.legend()\n",
    "plt.grid(True)\n",
    "plt.show()"
   ]
  },
  {
   "cell_type": "code",
   "execution_count": 0,
   "metadata": {
    "application/vnd.databricks.v1+cell": {
     "cellMetadata": {
      "byteLimit": 2048000,
      "rowLimit": 10000
     },
     "inputWidgets": {},
     "nuid": "43fbe4ad-1805-4fe4-95c4-92b0b1ec9b7e",
     "showTitle": false,
     "title": ""
    }
   },
   "outputs": [
    {
     "output_type": "display_data",
     "data": {
      "text/plain": [
       ""
      ]
     },
     "metadata": {
      "application/vnd.databricks.v1+output": {
       "arguments": {},
       "data": "",
       "errorSummary": "Command skipped",
       "errorTraceType": "ansi",
       "metadata": {},
       "type": "ipynbError"
      }
     },
     "output_type": "display_data"
    }
   ],
   "source": [
    "import torch\n",
    "import torch.nn as nn\n",
    "import torch.optim as optim\n",
    "from torch.utils.data import DataLoader, TensorDataset\n",
    "import torch.nn.functional as F\n",
    "from sklearn.preprocessing import StandardScaler\n",
    "from sklearn.model_selection import train_test_split"
   ]
  },
  {
   "cell_type": "markdown",
   "metadata": {
    "application/vnd.databricks.v1+cell": {
     "cellMetadata": {
      "byteLimit": 2048000,
      "rowLimit": 10000
     },
     "inputWidgets": {},
     "nuid": "b490d53b-78d0-4e63-a549-2b29c57edf26",
     "showTitle": false,
     "title": ""
    }
   },
   "source": [
    "Implementing Neural Network using PyTorch"
   ]
  },
  {
   "cell_type": "code",
   "execution_count": 0,
   "metadata": {
    "application/vnd.databricks.v1+cell": {
     "cellMetadata": {
      "byteLimit": 2048000,
      "rowLimit": 10000
     },
     "inputWidgets": {},
     "nuid": "4bc5f99e-cadd-43ef-be80-4d6585930a4a",
     "showTitle": false,
     "title": ""
    }
   },
   "outputs": [
    {
     "output_type": "display_data",
     "data": {
      "text/plain": [
       ""
      ]
     },
     "metadata": {
      "application/vnd.databricks.v1+output": {
       "arguments": {},
       "data": "",
       "errorSummary": "Command skipped",
       "errorTraceType": "ansi",
       "metadata": {},
       "type": "ipynbError"
      }
     },
     "output_type": "display_data"
    }
   ],
   "source": [
    "x = new_df.loc[:, new_df.columns!=\"Diabetes_012\"]\n",
    "y = new_df.loc[:, new_df.columns == \"Diabetes_012\"]\n",
    "x,y"
   ]
  },
  {
   "cell_type": "code",
   "execution_count": 0,
   "metadata": {
    "application/vnd.databricks.v1+cell": {
     "cellMetadata": {
      "byteLimit": 2048000,
      "rowLimit": 10000
     },
     "inputWidgets": {},
     "nuid": "c5cc50ad-1f22-45f1-9b2f-56d76196c36c",
     "showTitle": false,
     "title": ""
    }
   },
   "outputs": [
    {
     "output_type": "display_data",
     "data": {
      "text/plain": [
       ""
      ]
     },
     "metadata": {
      "application/vnd.databricks.v1+output": {
       "arguments": {},
       "data": "",
       "errorSummary": "Command skipped",
       "errorTraceType": "ansi",
       "metadata": {},
       "type": "ipynbError"
      }
     },
     "output_type": "display_data"
    }
   ],
   "source": [
    "x_train, x_test, y_train, y_test = train_test_split(x, y, test_size=0.2, random_state=42)\n",
    "x_train.shape, y_train.shape, x_test.shape, y_test.shape"
   ]
  },
  {
   "cell_type": "code",
   "execution_count": 0,
   "metadata": {
    "application/vnd.databricks.v1+cell": {
     "cellMetadata": {
      "byteLimit": 2048000,
      "rowLimit": 10000
     },
     "inputWidgets": {},
     "nuid": "6dd72fb8-400b-43c7-8035-60e44e87caed",
     "showTitle": false,
     "title": ""
    }
   },
   "outputs": [
    {
     "output_type": "display_data",
     "data": {
      "text/plain": [
       ""
      ]
     },
     "metadata": {
      "application/vnd.databricks.v1+output": {
       "arguments": {},
       "data": "",
       "errorSummary": "Command skipped",
       "errorTraceType": "ansi",
       "metadata": {},
       "type": "ipynbError"
      }
     },
     "output_type": "display_data"
    }
   ],
   "source": [
    "sc = StandardScaler()\n",
    "sc.fit(x_train)"
   ]
  },
  {
   "cell_type": "code",
   "execution_count": 0,
   "metadata": {
    "application/vnd.databricks.v1+cell": {
     "cellMetadata": {
      "byteLimit": 2048000,
      "rowLimit": 10000
     },
     "inputWidgets": {},
     "nuid": "7be1dc1a-1334-4161-b5e9-3551da413daf",
     "showTitle": false,
     "title": ""
    }
   },
   "outputs": [
    {
     "output_type": "display_data",
     "data": {
      "text/plain": [
       ""
      ]
     },
     "metadata": {
      "application/vnd.databricks.v1+output": {
       "arguments": {},
       "data": "",
       "errorSummary": "Command skipped",
       "errorTraceType": "ansi",
       "metadata": {},
       "type": "ipynbError"
      }
     },
     "output_type": "display_data"
    }
   ],
   "source": [
    "# Performing scaling\n",
    "\n",
    "x_train_sc = sc.transform(x_train)\n",
    "x_test_sc = sc.transform(x_test)\n",
    "y_train_sc = sc.fit_transform(y_train)\n",
    "\n",
    "x_train_sc, x_test_sc"
   ]
  },
  {
   "cell_type": "code",
   "execution_count": 0,
   "metadata": {
    "application/vnd.databricks.v1+cell": {
     "cellMetadata": {
      "byteLimit": 2048000,
      "rowLimit": 10000
     },
     "inputWidgets": {},
     "nuid": "d77f81d8-e8c6-405d-8d48-31f81ed2c876",
     "showTitle": false,
     "title": ""
    }
   },
   "outputs": [
    {
     "output_type": "display_data",
     "data": {
      "text/plain": [
       ""
      ]
     },
     "metadata": {
      "application/vnd.databricks.v1+output": {
       "arguments": {},
       "data": "",
       "errorSummary": "Command skipped",
       "errorTraceType": "ansi",
       "metadata": {},
       "type": "ipynbError"
      }
     },
     "output_type": "display_data"
    }
   ],
   "source": [
    "x_train.shape"
   ]
  },
  {
   "cell_type": "code",
   "execution_count": 0,
   "metadata": {
    "application/vnd.databricks.v1+cell": {
     "cellMetadata": {
      "byteLimit": 2048000,
      "rowLimit": 10000
     },
     "inputWidgets": {},
     "nuid": "db0df8ea-ae82-469f-aba7-2a37fcd90ad9",
     "showTitle": false,
     "title": ""
    }
   },
   "outputs": [
    {
     "output_type": "display_data",
     "data": {
      "text/plain": [
       ""
      ]
     },
     "metadata": {
      "application/vnd.databricks.v1+output": {
       "arguments": {},
       "data": "",
       "errorSummary": "Command skipped",
       "errorTraceType": "ansi",
       "metadata": {},
       "type": "ipynbError"
      }
     },
     "output_type": "display_data"
    }
   ],
   "source": [
    "xtrain_ten = torch.tensor(x_train_sc, dtype=torch.float32)\n",
    "ytrain_ten = torch.tensor(y_train_sc, dtype=torch.long)  # Labels for multiclass classification\n",
    "\n",
    "xtrain_ten, ytrain_ten.shape"
   ]
  },
  {
   "cell_type": "code",
   "execution_count": 0,
   "metadata": {
    "application/vnd.databricks.v1+cell": {
     "cellMetadata": {
      "byteLimit": 2048000,
      "rowLimit": 10000
     },
     "inputWidgets": {},
     "nuid": "628f4f2e-3249-40b6-9030-cbd74bcd67b0",
     "showTitle": false,
     "title": ""
    }
   },
   "outputs": [
    {
     "output_type": "display_data",
     "data": {
      "text/plain": [
       ""
      ]
     },
     "metadata": {
      "application/vnd.databricks.v1+output": {
       "arguments": {},
       "data": "",
       "errorSummary": "Command skipped",
       "errorTraceType": "ansi",
       "metadata": {},
       "type": "ipynbError"
      }
     },
     "output_type": "display_data"
    }
   ],
   "source": [
    "# Define the neural network architecture\n",
    "class DiabetesClassifier(nn.Module):\n",
    "    def __init__(self, input_size, hidden_size1, hidden_size2, num_classes):\n",
    "        super(DiabetesClassifier, self).__init__()\n",
    "        self.fc1 = nn.Linear(input_size, hidden_size1)\n",
    "        self.fc2 = nn.Linear(hidden_size1, hidden_size2)\n",
    "        self.fc3 = nn.Linear(hidden_size2, num_classes)\n",
    "    \n",
    "    def forward(self, x):\n",
    "        x = F.relu(self.fc1(x))\n",
    "        x = F.relu(self.fc2(x))\n",
    "        x = self.fc3(x)\n",
    "        return F.softmax(x, dim=1)"
   ]
  },
  {
   "cell_type": "code",
   "execution_count": 0,
   "metadata": {
    "application/vnd.databricks.v1+cell": {
     "cellMetadata": {
      "byteLimit": 2048000,
      "rowLimit": 10000
     },
     "inputWidgets": {},
     "nuid": "295d1621-f855-47aa-8a57-b31f3c4551a8",
     "showTitle": false,
     "title": ""
    }
   },
   "outputs": [
    {
     "output_type": "display_data",
     "data": {
      "text/plain": [
       ""
      ]
     },
     "metadata": {
      "application/vnd.databricks.v1+output": {
       "arguments": {},
       "data": "",
       "errorSummary": "Command skipped",
       "errorTraceType": "ansi",
       "metadata": {},
       "type": "ipynbError"
      }
     },
     "output_type": "display_data"
    }
   ],
   "source": [
    "device = torch.device(\"cuda\" if torch.cuda.is_available() else \"cpu\")"
   ]
  },
  {
   "cell_type": "code",
   "execution_count": 0,
   "metadata": {
    "application/vnd.databricks.v1+cell": {
     "cellMetadata": {
      "byteLimit": 2048000,
      "rowLimit": 10000
     },
     "inputWidgets": {},
     "nuid": "e759d893-984f-4b76-94b0-a7273f9d6c39",
     "showTitle": false,
     "title": ""
    }
   },
   "outputs": [
    {
     "output_type": "display_data",
     "data": {
      "text/plain": [
       ""
      ]
     },
     "metadata": {
      "application/vnd.databricks.v1+output": {
       "arguments": {},
       "data": "",
       "errorSummary": "Command skipped",
       "errorTraceType": "ansi",
       "metadata": {},
       "type": "ipynbError"
      }
     },
     "output_type": "display_data"
    }
   ],
   "source": [
    "input_size = x_train.shape[1]  # Number of input features\n",
    "hidden_size1 = 64\n",
    "hidden_size2 = 32\n",
    "num_classes = 3  # Number of diabetes classes (e.g., no diabetes, type 1, type 2)\n",
    "learning_rate = 0.001\n",
    "batch_size = 64\n",
    "num_epochs = 10\n",
    "\n",
    "# Create a TensorDataset and DataLoader for training\n",
    "train_dataset = TensorDataset(xtrain_ten, ytrain_ten)\n",
    "train_dataloader = DataLoader(train_dataset, batch_size=batch_size, shuffle=True)\n",
    "\n",
    "# Create an instance of the DiabetesClassifier\n",
    "model = DiabetesClassifier(input_size, hidden_size1, hidden_size2, num_classes)\n",
    "\n",
    "# Define the loss function and optimizer\n",
    "criterion = nn.CrossEntropyLoss()\n",
    "optimizer = optim.Adam(model.parameters(), lr=learning_rate)\n",
    "\n",
    "# Training loop\n",
    "for epoch in range(num_epochs):\n",
    "    total_loss = 0.0\n",
    "    for batch_X, batch_y in train_dataloader:\n",
    "        batch_X = batch_X.to(device)\n",
    "        batch_y = batch_y.to(device).squeeze()  # Ensure batch_y is a 1D tensor\n",
    "        optimizer.zero_grad()  # Zero the gradients\n",
    "        outputs = model(batch_X)  # Forward pass\n",
    "        loss = criterion(outputs, batch_y)  # Compute the loss\n",
    "        loss.backward()  # Backward pass\n",
    "        optimizer.step()  # Update the weights\n",
    "\n",
    "        total_loss += loss.item()\n",
    "    \n",
    "    # Print average loss per epoch\n",
    "    print(f\"Epoch {epoch + 1}, Loss: {total_loss / len(train_dataloader)}\")"
   ]
  },
  {
   "cell_type": "code",
   "execution_count": 0,
   "metadata": {
    "application/vnd.databricks.v1+cell": {
     "cellMetadata": {
      "byteLimit": 2048000,
      "rowLimit": 10000
     },
     "inputWidgets": {},
     "nuid": "3b6890c1-6d9b-477c-a25c-226b65243e3d",
     "showTitle": false,
     "title": ""
    }
   },
   "outputs": [
    {
     "output_type": "display_data",
     "data": {
      "text/plain": [
       ""
      ]
     },
     "metadata": {
      "application/vnd.databricks.v1+output": {
       "arguments": {},
       "data": "",
       "errorSummary": "Command skipped",
       "errorTraceType": "ansi",
       "metadata": {},
       "type": "ipynbError"
      }
     },
     "output_type": "display_data"
    }
   ],
   "source": [
    "x_test_tensor = torch.tensor(x_test_sc, dtype=torch.float32).to(device)\n",
    "y_test_array = y_test.values  # This converts the DataFrame to a NumPy array\n",
    "\n",
    "# Convert NumPy array to PyTorch tensor with the correct dtype\n",
    "y_test_tensor = torch.tensor(y_test_array, dtype=torch.long).to(device)"
   ]
  },
  {
   "cell_type": "code",
   "execution_count": 0,
   "metadata": {
    "application/vnd.databricks.v1+cell": {
     "cellMetadata": {
      "byteLimit": 2048000,
      "rowLimit": 10000
     },
     "inputWidgets": {},
     "nuid": "34c2e541-52f0-4fad-8501-51ee5cf5d0eb",
     "showTitle": false,
     "title": ""
    }
   },
   "outputs": [
    {
     "output_type": "display_data",
     "data": {
      "text/plain": [
       ""
      ]
     },
     "metadata": {
      "application/vnd.databricks.v1+output": {
       "arguments": {},
       "data": "",
       "errorSummary": "Command skipped",
       "errorTraceType": "ansi",
       "metadata": {},
       "type": "ipynbError"
      }
     },
     "output_type": "display_data"
    }
   ],
   "source": [
    "# Evaluation\n",
    "model.eval()\n",
    "with torch.no_grad():\n",
    "    outputs = model(x_test_tensor)\n",
    "    _, predicted = torch.max(outputs, 1)  # Get predicted class indices\n",
    "\n",
    "    # Calculate accuracy\n",
    "    correct = (predicted == y_test_tensor).sum().item()\n",
    "    accuracy = correct / len(y_test_tensor)\n",
    "    print(f\"Test Accuracy: {accuracy}\")"
   ]
  }
 ],
 "metadata": {
  "application/vnd.databricks.v1+notebook": {
   "dashboards": [],
   "environmentMetadata": null,
   "language": "python",
   "notebookMetadata": {
    "mostRecentlyExecutedCommandWithImplicitDF": {
     "commandId": 346195485520562,
     "dataframes": [
      "_sqldf"
     ]
    },
    "pythonIndentUnit": 4
   },
   "notebookName": "Diabetes Prediction using PySpark",
   "widgets": {}
  }
 },
 "nbformat": 4,
 "nbformat_minor": 0
}
